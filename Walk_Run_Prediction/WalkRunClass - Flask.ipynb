{
 "cells": [
  {
   "cell_type": "code",
   "execution_count": 1,
   "id": "06e4b821",
   "metadata": {},
   "outputs": [
    {
     "name": "stdout",
     "output_type": "stream",
     "text": [
      " * Serving Flask app \"__main__\" (lazy loading)\n",
      " * Environment: production\n",
      "\u001b[31m   WARNING: This is a development server. Do not use it in a production deployment.\u001b[0m\n",
      "\u001b[2m   Use a production WSGI server instead.\u001b[0m\n",
      " * Debug mode: off\n"
     ]
    },
    {
     "name": "stderr",
     "output_type": "stream",
     "text": [
      " * Running on http://127.0.0.1:5000/ (Press CTRL+C to quit)\n",
      "127.0.0.1 - - [23/Sep/2023 12:59:08] \"GET / HTTP/1.1\" 200 -\n",
      "127.0.0.1 - - [23/Sep/2023 12:59:28] \"POST /predict HTTP/1.1\" 200 -\n"
     ]
    },
    {
     "name": "stdout",
     "output_type": "stream",
     "text": [
      "Flask Started\n",
      "['2', '1', '1', '1', '-1', '-2']\n",
      "The person is Running\n"
     ]
    }
   ],
   "source": [
    "from flask import Flask, render_template, request\n",
    "import numpy as np\n",
    "import pickle, sklearn\n",
    "import os\n",
    "from tensorflow.keras.models import load_model\n",
    "\n",
    "app = Flask(__name__, template_folder=\"templates\")\n",
    "\n",
    "model = pickle.load(open('walkrunclass.pkl','rb'))\n",
    "# BASE_DIR = os.path.dirname(os.path.abspath('walkrunclass.h5'))\n",
    "# model = load_model(os.path.join(BASE_DIR ,'walkrunclass.h5'))\n",
    "\n",
    "@app.route('/', methods = ['GET'])\n",
    "def home():\n",
    "    return render_template('index (1).html')\n",
    "\n",
    "# Creating a new sub directory. type /predict after the home directory\n",
    "@app.route('/predict', methods = ['POST'])\n",
    "def predict():\n",
    "    if request.method=='POST':\n",
    "        print('Flask Started')\n",
    "\n",
    "        acceleration_x = request.form['acceleration_x']\n",
    "        acceleration_y = request.form['acceleration_y']\n",
    "        acceleration_z = request.form['acceleration_z']\n",
    "        gyro_x = request.form['gyro_x']\n",
    "        gyro_y = request.form['gyro_y']\n",
    "        gyro_z = request.form['gyro_z']\n",
    "\n",
    "\n",
    "        test_data = [acceleration_x, acceleration_y, acceleration_z, gyro_x, gyro_y, gyro_z]\n",
    "        print(test_data)\n",
    "        output = model.predict([test_data])\n",
    "\n",
    "        if output == 0:\n",
    "            op = 'The person is Walking'\n",
    "        else:\n",
    "            op = 'The person is Running'\n",
    "\n",
    "        outputline = op\n",
    "        print(outputline)\n",
    "        return render_template('index (1).html', Prediction = outputline)\n",
    "    else:\n",
    "        return render_template('index (1).html')\n",
    "\n",
    "if __name__ == '__main__':\n",
    "    app.run()"
   ]
  },
  {
   "cell_type": "code",
   "execution_count": null,
   "id": "4e433dfa",
   "metadata": {},
   "outputs": [],
   "source": []
  }
 ],
 "metadata": {
  "kernelspec": {
   "display_name": "Python 3 (ipykernel)",
   "language": "python",
   "name": "python3"
  },
  "language_info": {
   "codemirror_mode": {
    "name": "ipython",
    "version": 3
   },
   "file_extension": ".py",
   "mimetype": "text/x-python",
   "name": "python",
   "nbconvert_exporter": "python",
   "pygments_lexer": "ipython3",
   "version": "3.9.12"
  }
 },
 "nbformat": 4,
 "nbformat_minor": 5
}
