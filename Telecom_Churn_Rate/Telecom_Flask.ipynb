{
 "cells": [
  {
   "cell_type": "code",
   "execution_count": 1,
   "id": "9dd19377",
   "metadata": {},
   "outputs": [
    {
     "name": "stdout",
     "output_type": "stream",
     "text": [
      " * Serving Flask app \"__main__\" (lazy loading)\n",
      " * Environment: production\n",
      "\u001b[31m   WARNING: This is a development server. Do not use it in a production deployment.\u001b[0m\n",
      "\u001b[2m   Use a production WSGI server instead.\u001b[0m\n",
      " * Debug mode: off\n"
     ]
    },
    {
     "name": "stderr",
     "output_type": "stream",
     "text": [
      " * Running on http://127.0.0.1:5000/ (Press CTRL+C to quit)\n",
      "127.0.0.1 - - [30/Sep/2023 08:31:40] \"GET / HTTP/1.1\" 200 -\n",
      "127.0.0.1 - - [30/Sep/2023 08:32:14] \"POST /predict HTTP/1.1\" 200 -\n"
     ]
    },
    {
     "name": "stdout",
     "output_type": "stream",
     "text": [
      "[42, 551, 408, 1, 1, 12, 6.0, 8, 4.0, 10, 6.0, 4, 2.0, 3]\n",
      "[1]\n",
      "True\n",
      "The customer is going to Churn and Churn_Flag is No\n"
     ]
    }
   ],
   "source": [
    "from flask import Flask, render_template, request\n",
    "import pickle\n",
    "import numpy as np\n",
    "import joblib\n",
    "\n",
    "\n",
    "app = Flask(__name__)\n",
    "\n",
    "model = joblib.load('customer_churn_business_case.pkl')\n",
    "\n",
    "@app.route('/')\n",
    "def index():\n",
    "    return render_template('index.html')\n",
    "\n",
    "@app.route('/predict', methods=['POST'])\n",
    "def predict():\n",
    "    if request.method == 'POST':\n",
    "        try:\n",
    "            # Parse form data\n",
    "            features = [\n",
    "                int(request.form['State']),\n",
    "                int(request.form['Account_Length']),\n",
    "                int(request.form['Area_Code']),\n",
    "                int(request.form['International_Plan']),\n",
    "                int(request.form['VMail_Plan']),\n",
    "                int(request.form['Day_Calls']),\n",
    "                float(request.form['Day_Charge']),\n",
    "                int(request.form['Eve_Calls']),\n",
    "                float(request.form['Eve_Charge']),\n",
    "                int(request.form['Night_Calls']),\n",
    "                float(request.form['Night_Charge']),\n",
    "                int(request.form['International_calls']),\n",
    "                float(request.form['International_Charge']),\n",
    "                int(request.form['CustServ_Calls'])                       \n",
    "            ]\n",
    "          \n",
    "            print(features)\n",
    "            output = model.predict([features])   \n",
    "            print(output)\n",
    "            \n",
    "            global_avg = [26, 100, 415, 0, 0, 100, 30.59375, 101, 17.0625, 100, 9.039062, 4, 2.779297, 1]\n",
    "\n",
    "            Churn_Flag = ([features] > [global_avg]) & (output == 1)\n",
    "            Churn_Flag = Churn_Flag[0]\n",
    "            print(Churn_Flag)\n",
    "\n",
    "            if Churn_Flag == False:\n",
    "                flag = 'Yes'\n",
    "            else:\n",
    "                flag = 'No'\n",
    "\n",
    "\n",
    "            if output == 1:\n",
    "                op = 'Churn'\n",
    "            else:\n",
    "                op = 'No Churn'\n",
    "            \n",
    "        \n",
    "            outputline = 'The customer is going to {} and Churn_Flag is {}'.format(op, flag)\n",
    "            print(outputline)\n",
    "            return render_template('result.html', Prediction = outputline)\n",
    "\n",
    "        except Exception as e:\n",
    "            error_message = f\"An error occurred: {str(e)}\"\n",
    "            return render_template('index.html', error=error_message)\n",
    "    else:\n",
    "        return render_template('index.html')\n",
    "\n",
    "if __name__ == '__main__':\n",
    "    app.run()\n"
   ]
  },
  {
   "cell_type": "code",
   "execution_count": null,
   "id": "1a471884",
   "metadata": {},
   "outputs": [],
   "source": []
  }
 ],
 "metadata": {
  "kernelspec": {
   "display_name": "Python 3 (ipykernel)",
   "language": "python",
   "name": "python3"
  },
  "language_info": {
   "codemirror_mode": {
    "name": "ipython",
    "version": 3
   },
   "file_extension": ".py",
   "mimetype": "text/x-python",
   "name": "python",
   "nbconvert_exporter": "python",
   "pygments_lexer": "ipython3",
   "version": "3.9.13"
  }
 },
 "nbformat": 4,
 "nbformat_minor": 5
}
