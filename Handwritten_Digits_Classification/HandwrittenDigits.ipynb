{
 "cells": [
  {
   "cell_type": "markdown",
   "id": "5c9178d5",
   "metadata": {
    "id": "5c9178d5"
   },
   "source": [
    "# Introduction"
   ]
  },
  {
   "cell_type": "markdown",
   "id": "383d9463",
   "metadata": {
    "id": "383d9463"
   },
   "source": [
    "The MNIST (Modified National Institute of Standards and Technology database) database is a large database of handwritten digits that is commonly used for training various image processing systems. The database is also widely used for training and testing in the field of machine learning.\n",
    "\n",
    "The MNIST database contains 60,000 training images and 10,000 test images. Each image is a grayscale image of a handwritten digit, with a size of 28x28 pixels. The digits are labeled from 0 to 9, with each digit having an equal number of training and test images.\n",
    "\n",
    "The MNIST database is a very popular dataset for machine learning because it is relatively small and easy to work with, but it is still challenging enough to produce good results. The MNIST dataset is also a good starting point for learning about image processing and machine learning.\n",
    "\n",
    "Here is a more detailed description of the MNIST dataset:\n",
    "\n",
    "Split: The MNIST dataset is split into two parts: a training set and a test set. The training set contains 60,000 images, and the test set contains 10,000 images.\n",
    "Labels: Each image in the MNIST dataset is labeled with a digit from 0 to 9. The labels are evenly distributed between the training and test sets.\n",
    "Format: The MNIST dataset is stored in a simple binary format. Each image is represented as a 28x28 array of pixels, with each pixel value ranging from 0 to 255. The labels are stored as a separate array, with each label represented as a single byte.\n",
    "The MNIST dataset can be downloaded from a variety of sources, including the following:\n",
    "\n",
    "The official MNIST website: http://yann.lecun.com/exdb/mnist/\n",
    "Kaggle: https://www.kaggle.com/datasets/zalando-research/fashionmnist\n",
    "TensorFlow Datasets: https://www.tensorflow.org/datasets/catalog/mnist\n",
    "The MNIST dataset is a great resource for anyone who is interested in learning about image processing or machine learning. It is also a good dataset for testing new algorithms and techniques."
   ]
  },
  {
   "cell_type": "markdown",
   "id": "1613a392",
   "metadata": {
    "id": "1613a392"
   },
   "source": [
    "# Problem Statement"
   ]
  },
  {
   "cell_type": "markdown",
   "id": "637a4bb4",
   "metadata": {
    "id": "637a4bb4"
   },
   "source": [
    "Problem Statement\n",
    "\n",
    "Task 1:-Prepare a complete data analysis report on the given data.\n",
    "\n",
    "Task 2:- Classify a given image of a handwritten digit into one of the 10 classes representing integer values from 0 to 9.\n",
    "\n",
    "Task3:- Compare between various models and find the classifier that works better.\n"
   ]
  },
  {
   "cell_type": "code",
   "execution_count": 2,
   "id": "d75a3018",
   "metadata": {
    "id": "d75a3018"
   },
   "outputs": [],
   "source": [
    "import numpy as np\n",
    "import pandas as pd\n",
    "import keras\n",
    "import tensorflow as tf\n",
    "import matplotlib.pyplot as plt\n",
    "import warnings\n",
    "warnings.filterwarnings('ignore')"
   ]
  },
  {
   "cell_type": "code",
   "execution_count": 2,
   "id": "9d2d61d5",
   "metadata": {
    "id": "9d2d61d5"
   },
   "outputs": [],
   "source": [
    "from tensorflow.keras.datasets import mnist\n",
    "(xtrain, ytrain), (xtest, ytest) = mnist.load_data()"
   ]
  },
  {
   "cell_type": "code",
   "execution_count": 3,
   "id": "0c889e74",
   "metadata": {
    "colab": {
     "base_uri": "https://localhost:8080/"
    },
    "id": "0c889e74",
    "outputId": "73f7adc0-da2d-4742-ee50-820e3ed4ad32"
   },
   "outputs": [
    {
     "data": {
      "text/plain": [
       "((60000, 28, 28), (10000, 28, 28))"
      ]
     },
     "execution_count": 3,
     "metadata": {},
     "output_type": "execute_result"
    }
   ],
   "source": [
    "xtrain.shape, xtest.shape"
   ]
  },
  {
   "cell_type": "markdown",
   "id": "79b89673",
   "metadata": {
    "id": "79b89673"
   },
   "source": [
    "# Data Analysis"
   ]
  },
  {
   "cell_type": "markdown",
   "id": "1b4f3658",
   "metadata": {
    "id": "1b4f3658"
   },
   "source": [
    "## Image Visualization"
   ]
  },
  {
   "cell_type": "code",
   "execution_count": 4,
   "id": "9e05e8da",
   "metadata": {
    "colab": {
     "base_uri": "https://localhost:8080/",
     "height": 756
    },
    "id": "9e05e8da",
    "outputId": "13f06053-e5ac-4d79-eb09-98fc078e0df0"
   },
   "outputs": [
    {
     "data": {
      "image/png": "[encoded data removed]",
      "text/plain": [
       "<Figure size 720x720 with 20 Axes>"
      ]
     },
     "metadata": {},
     "output_type": "display_data"
    }
   ],
   "source": [
    "fig = plt.figure(figsize=(10,10))\n",
    "\n",
    "for i in range(20):\n",
    "    plt.subplot(4,5, i+1, xticks=[], yticks=[])\n",
    "    plt.imshow(xtrain[i], cmap='cividis')"
   ]
  },
  {
   "cell_type": "code",
   "execution_count": 5,
   "id": "3432b2b9",
   "metadata": {
    "colab": {
     "base_uri": "https://localhost:8080/"
    },
    "id": "3432b2b9",
    "outputId": "e7e85a2b-c3b9-4312-88c7-cc631a94249b"
   },
   "outputs": [
    {
     "data": {
      "text/plain": [
       "9"
      ]
     },
     "execution_count": 5,
     "metadata": {},
     "output_type": "execute_result"
    }
   ],
   "source": [
    "ytrain[4]"
   ]
  },
  {
   "cell_type": "code",
   "execution_count": 6,
   "id": "0e078ec8",
   "metadata": {
    "id": "0e078ec8"
   },
   "outputs": [],
   "source": [
    "xtrain = xtrain.astype('float32')/255\n",
    "xtest = xtest.astype('float32')/255"
   ]
  },
  {
   "cell_type": "code",
   "execution_count": 7,
   "id": "d19f89a9",
   "metadata": {
    "colab": {
     "base_uri": "https://localhost:8080/"
    },
    "id": "d19f89a9",
    "outputId": "00dd08b3-f363-48a4-b7ff-6d5f13d076b7"
   },
   "outputs": [
    {
     "data": {
      "text/plain": [
       "(numpy.ndarray, numpy.ndarray)"
      ]
     },
     "execution_count": 7,
     "metadata": {},
     "output_type": "execute_result"
    }
   ],
   "source": [
    "type(ytrain), type(xtrain)"
   ]
  },
  {
   "cell_type": "code",
   "execution_count": 8,
   "id": "f66c9738",
   "metadata": {
    "colab": {
     "base_uri": "https://localhost:8080/"
    },
    "id": "f66c9738",
    "outputId": "96815d15-164e-47f7-f20f-ea988b8b0035"
   },
   "outputs": [
    {
     "data": {
      "text/plain": [
       "((60000, 28, 28), (60000,))"
      ]
     },
     "execution_count": 8,
     "metadata": {},
     "output_type": "execute_result"
    }
   ],
   "source": [
    "xtrain.shape, ytrain.shape"
   ]
  },
  {
   "cell_type": "code",
   "execution_count": 9,
   "id": "6babbf6a",
   "metadata": {
    "colab": {
     "base_uri": "https://localhost:8080/"
    },
    "id": "6babbf6a",
    "outputId": "79301ee6-41ce-4be1-eda5-05e97a42764e"
   },
   "outputs": [
    {
     "data": {
      "text/plain": [
       "array([0, 1, 2, 3, 4, 5, 6, 7, 8, 9], dtype=uint8)"
      ]
     },
     "execution_count": 9,
     "metadata": {},
     "output_type": "execute_result"
    }
   ],
   "source": [
    "labels = np.unique(ytrain)\n",
    "labels"
   ]
  },
  {
   "cell_type": "code",
   "execution_count": 10,
   "id": "9eda7e5e",
   "metadata": {
    "id": "9eda7e5e"
   },
   "outputs": [],
   "source": [
    "# one hot encoding\n",
    "num_classes = len(np.unique(ytrain))\n",
    "y_train = keras.utils.to_categorical(ytrain, num_classes)\n",
    "y_test = keras.utils.to_categorical(ytest, num_classes)"
   ]
  },
  {
   "cell_type": "code",
   "execution_count": 11,
   "id": "16c0c82d",
   "metadata": {
    "colab": {
     "base_uri": "https://localhost:8080/"
    },
    "id": "16c0c82d",
    "outputId": "601324f2-0c61-4a80-8bcc-6e37eb4e68bf"
   },
   "outputs": [
    {
     "data": {
      "text/plain": [
       "((60000, 28, 28), (60000, 10))"
      ]
     },
     "execution_count": 11,
     "metadata": {},
     "output_type": "execute_result"
    }
   ],
   "source": [
    "xtrain.shape, y_train.shape"
   ]
  },
  {
   "cell_type": "markdown",
   "id": "6a161428",
   "metadata": {
    "id": "6a161428"
   },
   "source": [
    "# Model Creation"
   ]
  },
  {
   "cell_type": "markdown",
   "id": "dbb78c61",
   "metadata": {
    "id": "dbb78c61"
   },
   "source": [
    "### Convolutional Neural network"
   ]
  },
  {
   "cell_type": "code",
   "execution_count": 12,
   "id": "5fb6eb88",
   "metadata": {
    "id": "5fb6eb88"
   },
   "outputs": [],
   "source": [
    "# 5. Creating model architectire\n",
    "\n",
    "from keras.models import Sequential\n",
    "from keras.layers import Conv2D, MaxPooling2D, Flatten, Dense, Dropout"
   ]
  },
  {
   "cell_type": "code",
   "execution_count": 13,
   "id": "07c73bd2",
   "metadata": {
    "id": "07c73bd2"
   },
   "outputs": [],
   "source": [
    "# Model creation\n",
    "cnn_model = Sequential()\n",
    "\n",
    "# Layer creation\n",
    "cnn_model.add(Conv2D(filters=16, kernel_size=3, padding='same', activation='relu', input_shape=(28,28,1)))\n",
    "cnn_model.add(MaxPooling2D(pool_size=2))\n",
    "\n",
    "cnn_model.add(Conv2D(filters=32, kernel_size=3, padding='same', activation='relu'))\n",
    "cnn_model.add(MaxPooling2D(pool_size=2))\n",
    "\n",
    "cnn_model.add(Conv2D(filters=64, kernel_size=3, padding='same', activation='relu'))\n",
    "cnn_model.add(MaxPooling2D(pool_size=2))\n",
    "\n",
    "cnn_model.add(Flatten())\n",
    "\n",
    "cnn_model.add(Dense(500, activation='relu'))\n",
    "cnn_model.add(Dropout(0.3))\n",
    "\n",
    "cnn_model.add(Dense(10, activation='softmax'))"
   ]
  },
  {
   "cell_type": "code",
   "execution_count": 14,
   "id": "e0db3c0e",
   "metadata": {
    "colab": {
     "base_uri": "https://localhost:8080/"
    },
    "id": "e0db3c0e",
    "outputId": "1b907300-397e-4812-c74f-97113005ec51"
   },
   "outputs": [
    {
     "name": "stdout",
     "output_type": "stream",
     "text": [
      "Model: \"sequential\"\n",
      "_________________________________________________________________\n",
      " Layer (type)                Output Shape              Param #   \n",
      "=================================================================\n",
      " conv2d (Conv2D)             (None, 28, 28, 16)        160       \n",
      "                                                                 \n",
      " max_pooling2d (MaxPooling2D  (None, 14, 14, 16)       0         \n",
      " )                                                               \n",
      "                                                                 \n",
      " conv2d_1 (Conv2D)           (None, 14, 14, 32)        4640      \n",
      "                                                                 \n",
      " max_pooling2d_1 (MaxPooling  (None, 7, 7, 32)         0         \n",
      " 2D)                                                             \n",
      "                                                                 \n",
      " conv2d_2 (Conv2D)           (None, 7, 7, 64)          18496     \n",
      "                                                                 \n",
      " max_pooling2d_2 (MaxPooling  (None, 3, 3, 64)         0         \n",
      " 2D)                                                             \n",
      "                                                                 \n",
      " flatten (Flatten)           (None, 576)               0         \n",
      "                                                                 \n",
      " dense (Dense)               (None, 500)               288500    \n",
      "                                                                 \n",
      " dropout (Dropout)           (None, 500)               0         \n",
      "                                                                 \n",
      " dense_1 (Dense)             (None, 10)                5010      \n",
      "                                                                 \n",
      "=================================================================\n",
      "Total params: 316,806\n",
      "Trainable params: 316,806\n",
      "Non-trainable params: 0\n",
      "_________________________________________________________________\n"
     ]
    }
   ],
   "source": [
    "cnn_model.summary()"
   ]
  },
  {
   "cell_type": "code",
   "execution_count": 15,
   "id": "007b2998",
   "metadata": {
    "id": "007b2998"
   },
   "outputs": [],
   "source": [
    "# Optimizer - weights & learning rate changes - to reduce loss\n",
    "cnn_model.compile(loss='categorical_crossentropy', optimizer = 'adam', metrics = ['accuracy'])"
   ]
  },
  {
   "cell_type": "code",
   "execution_count": 16,
   "id": "47d4a128",
   "metadata": {
    "id": "47d4a128"
   },
   "outputs": [],
   "source": [
    "# Checkpoint creation\n",
    "\n",
    "from keras.callbacks import ModelCheckpoint\n",
    "\n",
    "checkpoint = ModelCheckpoint(filepath = 'handwrittendigits_cnn_model.h5', verbose = 2, save_best_only=True)"
   ]
  },
  {
   "cell_type": "code",
   "execution_count": 17,
   "id": "8fed573e",
   "metadata": {
    "colab": {
     "base_uri": "https://localhost:8080/"
    },
    "id": "8fed573e",
    "outputId": "de8d5e04-f595-40fd-969a-0c8aebcbae81"
   },
   "outputs": [
    {
     "name": "stdout",
     "output_type": "stream",
     "text": [
      "Epoch 1/10\n",
      "\n",
      "Epoch 1: val_loss improved from inf to 0.05790, saving model to handwrittendigits_cnn_model.h5\n",
      "1500/1500 - 23s - loss: 0.1785 - accuracy: 0.9442 - val_loss: 0.0579 - val_accuracy: 0.9832 - 23s/epoch - 15ms/step\n",
      "Epoch 2/10\n",
      "\n",
      "Epoch 2: val_loss improved from 0.05790 to 0.04180, saving model to handwrittendigits_cnn_model.h5\n",
      "1500/1500 - 22s - loss: 0.0553 - accuracy: 0.9827 - val_loss: 0.0418 - val_accuracy: 0.9876 - 22s/epoch - 15ms/step\n",
      "Epoch 3/10\n",
      "\n",
      "Epoch 3: val_loss improved from 0.04180 to 0.03655, saving model to handwrittendigits_cnn_model.h5\n",
      "1500/1500 - 22s - loss: 0.0406 - accuracy: 0.9875 - val_loss: 0.0366 - val_accuracy: 0.9893 - 22s/epoch - 15ms/step\n",
      "Epoch 4/10\n",
      "\n",
      "Epoch 4: val_loss improved from 0.03655 to 0.03620, saving model to handwrittendigits_cnn_model.h5\n",
      "1500/1500 - 21s - loss: 0.0322 - accuracy: 0.9895 - val_loss: 0.0362 - val_accuracy: 0.9891 - 21s/epoch - 14ms/step\n",
      "Epoch 5/10\n",
      "\n",
      "Epoch 5: val_loss did not improve from 0.03620\n",
      "1500/1500 - 22s - loss: 0.0271 - accuracy: 0.9915 - val_loss: 0.0380 - val_accuracy: 0.9885 - 22s/epoch - 15ms/step\n",
      "Epoch 6/10\n",
      "\n",
      "Epoch 6: val_loss did not improve from 0.03620\n",
      "1500/1500 - 22s - loss: 0.0220 - accuracy: 0.9930 - val_loss: 0.0539 - val_accuracy: 0.9868 - 22s/epoch - 15ms/step\n",
      "Epoch 7/10\n",
      "\n",
      "Epoch 7: val_loss did not improve from 0.03620\n",
      "1500/1500 - 22s - loss: 0.0192 - accuracy: 0.9935 - val_loss: 0.0362 - val_accuracy: 0.9903 - 22s/epoch - 14ms/step\n",
      "Epoch 8/10\n",
      "\n",
      "Epoch 8: val_loss did not improve from 0.03620\n",
      "1500/1500 - 22s - loss: 0.0155 - accuracy: 0.9947 - val_loss: 0.0369 - val_accuracy: 0.9906 - 22s/epoch - 14ms/step\n",
      "Epoch 9/10\n",
      "\n",
      "Epoch 9: val_loss did not improve from 0.03620\n",
      "1500/1500 - 21s - loss: 0.0147 - accuracy: 0.9952 - val_loss: 0.0465 - val_accuracy: 0.9887 - 21s/epoch - 14ms/step\n",
      "Epoch 10/10\n",
      "\n",
      "Epoch 10: val_loss did not improve from 0.03620\n",
      "1500/1500 - 22s - loss: 0.0121 - accuracy: 0.9955 - val_loss: 0.0585 - val_accuracy: 0.9877 - 22s/epoch - 14ms/step\n"
     ]
    }
   ],
   "source": [
    "# 8. Training\n",
    "\n",
    "cnn_train = cnn_model.fit(xtrain, y_train, epochs=10,\n",
    "                  validation_split=0.2,\n",
    "                  batch_size=32,\n",
    "                  callbacks=[checkpoint],\n",
    "                  verbose = 2, shuffle=True)"
   ]
  },
  {
   "cell_type": "code",
   "execution_count": 18,
   "id": "4aba1bbb",
   "metadata": {
    "id": "4aba1bbb"
   },
   "outputs": [],
   "source": [
    "cnn_model.save('handwrittendigits_cnn_model.h5')"
   ]
  },
  {
   "cell_type": "markdown",
   "id": "cf289094",
   "metadata": {
    "id": "cf289094"
   },
   "source": [
    "## Accuracy calculation"
   ]
  },
  {
   "cell_type": "code",
   "execution_count": 19,
   "id": "065440cd",
   "metadata": {
    "id": "065440cd"
   },
   "outputs": [],
   "source": [
    "def acc_loss_calc(model, xtrain, xtest, y_train, y_test):\n",
    "    tr_score = model.evaluate(xtrain, y_train, verbose=0)\n",
    "    tt_score = model.evaluate(xtest, y_test, verbose=0)\n",
    "    return ('Train score : ', tr_score, 'Test score : ', tt_score)"
   ]
  },
  {
   "cell_type": "code",
   "execution_count": 20,
   "id": "a730b51b",
   "metadata": {
    "colab": {
     "base_uri": "https://localhost:8080/"
    },
    "id": "a730b51b",
    "outputId": "12cc7bbb-df7e-4a10-a6c8-cc18bf7c70c4"
   },
   "outputs": [
    {
     "name": "stdout",
     "output_type": "stream",
     "text": [
      "('Train score : ', [0.022474749013781548, 0.9939666390419006], 'Test score : ', [0.05327095463871956, 0.9873999953269958])\n"
     ]
    }
   ],
   "source": [
    "print(acc_loss_calc(cnn_model, xtrain, xtest, y_train, y_test))"
   ]
  },
  {
   "cell_type": "code",
   "execution_count": 21,
   "id": "1d31a909",
   "metadata": {
    "colab": {
     "base_uri": "https://localhost:8080/",
     "height": 449
    },
    "id": "1d31a909",
    "outputId": "b07a4ed1-6f9d-4f78-be96-259bbfebd5ba"
   },
   "outputs": [
    {
     "data": {
      "image/png": "[encoded data removed]",
      "text/plain": [
       "<Figure size 432x288 with 1 Axes>"
      ]
     },
     "metadata": {
      "needs_background": "light"
     },
     "output_type": "display_data"
    }
   ],
   "source": [
    "plt.plot(cnn_train.history['loss'], label='train_loss')\n",
    "plt.plot(cnn_train.history['val_loss'], label='val_loss')\n",
    "plt.xlabel('Epoch')\n",
    "plt.ylabel('Loss Percentage')\n",
    "plt.legend()\n",
    "plt.show()"
   ]
  },
  {
   "cell_type": "code",
   "execution_count": 22,
   "id": "c6917f70",
   "metadata": {
    "colab": {
     "base_uri": "https://localhost:8080/",
     "height": 449
    },
    "id": "c6917f70",
    "outputId": "d9181941-d8ce-4803-c3c6-d333d899a38a"
   },
   "outputs": [
    {
     "data": {
      "image/png": "[encoded data removed]",
      "text/plain": [
       "<Figure size 432x288 with 1 Axes>"
      ]
     },
     "metadata": {
      "needs_background": "light"
     },
     "output_type": "display_data"
    }
   ],
   "source": [
    "plt.plot(cnn_train.history['accuracy'], label='train_accuracy')\n",
    "plt.plot(cnn_train.history['val_accuracy'], label='val_accuracy')\n",
    "plt.xlabel('Epoch')\n",
    "plt.ylabel('Accuracy Percentage')\n",
    "plt.legend()\n",
    "plt.show()"
   ]
  },
  {
   "cell_type": "markdown",
   "id": "f9f07678",
   "metadata": {
    "id": "f9f07678"
   },
   "source": [
    "## Image visualization"
   ]
  },
  {
   "cell_type": "code",
   "execution_count": 23,
   "id": "6be29449",
   "metadata": {
    "id": "6be29449"
   },
   "outputs": [],
   "source": [
    "def img_visual(model, xtest, y_test):\n",
    "    ypred = model.predict(xtest)\n",
    "\n",
    "    fig = plt.figure(figsize=(20,10))\n",
    "\n",
    "    for i , idx in enumerate(np.random.choice(xtest.shape[0], size = 50, replace = True)):\n",
    "        plt.subplot(5,10, i+1, xticks=[], yticks=[])\n",
    "        plt.imshow(xtest[i], cmap='cividis')\n",
    "        pred_idx = np.argmax(ypred[i])\n",
    "        exp_idx = np.argmax(y_test[i])\n",
    "        plt.title('{} ({})'.format(labels[pred_idx], labels[exp_idx]),\n",
    "                     color=('blue' if pred_idx == exp_idx else 'red'))"
   ]
  },
  {
   "cell_type": "code",
   "execution_count": 24,
   "id": "fd6b67dd",
   "metadata": {
    "colab": {
     "base_uri": "https://localhost:8080/",
     "height": 436
    },
    "id": "fd6b67dd",
    "outputId": "57c9bcc6-7ef6-4cb8-d739-8202022bbe3c"
   },
   "outputs": [
    {
     "name": "stdout",
     "output_type": "stream",
     "text": [
      "313/313 [==============================] - 2s 5ms/step\n"
     ]
    },
    {
     "data": {
      "image/png": "[encoded data removed]",
      "text/plain": [
       "<Figure size 1440x720 with 50 Axes>"
      ]
     },
     "metadata": {},
     "output_type": "display_data"
    }
   ],
   "source": [
    "img_visual(cnn_model, xtest, y_test)"
   ]
  },
  {
   "cell_type": "markdown",
   "id": "693c7178",
   "metadata": {
    "id": "693c7178"
   },
   "source": [
    "## Artificial Neural Network model"
   ]
  },
  {
   "cell_type": "code",
   "execution_count": 25,
   "id": "e59b4979",
   "metadata": {
    "id": "e59b4979"
   },
   "outputs": [],
   "source": [
    "# Model creation\n",
    "ann_model = Sequential()\n",
    "\n",
    "# Layer creation\n",
    "ann_model.add(Flatten(input_shape=(28,28,1)))\n",
    "\n",
    "ann_model.add(Dense(500, activation='relu'))\n",
    "ann_model.add(Dense(100, activation='relu'))\n",
    "ann_model.add(Dense(10, activation='softmax'))"
   ]
  },
  {
   "cell_type": "code",
   "execution_count": 26,
   "id": "2e1f7a57",
   "metadata": {
    "colab": {
     "base_uri": "https://localhost:8080/"
    },
    "id": "2e1f7a57",
    "outputId": "bca1676f-9b49-4f05-ccfc-43f6cfc2f89f"
   },
   "outputs": [
    {
     "name": "stdout",
     "output_type": "stream",
     "text": [
      "Model: \"sequential_1\"\n",
      "_________________________________________________________________\n",
      " Layer (type)                Output Shape              Param #   \n",
      "=================================================================\n",
      " flatten_1 (Flatten)         (None, 784)               0         \n",
      "                                                                 \n",
      " dense_2 (Dense)             (None, 500)               392500    \n",
      "                                                                 \n",
      " dense_3 (Dense)             (None, 100)               50100     \n",
      "                                                                 \n",
      " dense_4 (Dense)             (None, 10)                1010      \n",
      "                                                                 \n",
      "=================================================================\n",
      "Total params: 443,610\n",
      "Trainable params: 443,610\n",
      "Non-trainable params: 0\n",
      "_________________________________________________________________\n"
     ]
    }
   ],
   "source": [
    "ann_model.summary()"
   ]
  },
  {
   "cell_type": "code",
   "execution_count": 27,
   "id": "238ea414",
   "metadata": {
    "id": "238ea414"
   },
   "outputs": [],
   "source": [
    "# Optimizer - weights & learning rate changes - to reduce loss\n",
    "ann_model.compile(loss='categorical_crossentropy', optimizer = 'adam', metrics = ['accuracy'])"
   ]
  },
  {
   "cell_type": "code",
   "execution_count": 28,
   "id": "e55b64e1",
   "metadata": {
    "id": "e55b64e1"
   },
   "outputs": [],
   "source": [
    "# Checkpoint creation\n",
    "\n",
    "from keras.callbacks import ModelCheckpoint\n",
    "\n",
    "checkpoint = ModelCheckpoint(filepath = 'handwrittendigits_ann_model.h5', verbose = 2, save_best_only=True)"
   ]
  },
  {
   "cell_type": "code",
   "execution_count": 29,
   "id": "c2b9c717",
   "metadata": {
    "colab": {
     "base_uri": "https://localhost:8080/"
    },
    "id": "c2b9c717",
    "outputId": "9b379c0d-a89d-4335-f997-2198e7af7e25"
   },
   "outputs": [
    {
     "name": "stdout",
     "output_type": "stream",
     "text": [
      "Epoch 1/10\n",
      "\n",
      "Epoch 1: val_loss improved from inf to 0.12020, saving model to handwrittendigits_ann_model.h5\n",
      "1500/1500 - 10s - loss: 0.2138 - accuracy: 0.9346 - val_loss: 0.1202 - val_accuracy: 0.9615 - 10s/epoch - 6ms/step\n",
      "Epoch 2/10\n",
      "\n",
      "Epoch 2: val_loss improved from 0.12020 to 0.09161, saving model to handwrittendigits_ann_model.h5\n",
      "1500/1500 - 9s - loss: 0.0871 - accuracy: 0.9728 - val_loss: 0.0916 - val_accuracy: 0.9728 - 9s/epoch - 6ms/step\n",
      "Epoch 3/10\n",
      "\n",
      "Epoch 3: val_loss improved from 0.09161 to 0.08435, saving model to handwrittendigits_ann_model.h5\n",
      "1500/1500 - 9s - loss: 0.0568 - accuracy: 0.9816 - val_loss: 0.0843 - val_accuracy: 0.9766 - 9s/epoch - 6ms/step\n",
      "Epoch 4/10\n",
      "\n",
      "Epoch 4: val_loss did not improve from 0.08435\n",
      "1500/1500 - 9s - loss: 0.0439 - accuracy: 0.9856 - val_loss: 0.0862 - val_accuracy: 0.9743 - 9s/epoch - 6ms/step\n",
      "Epoch 5/10\n",
      "\n",
      "Epoch 5: val_loss did not improve from 0.08435\n",
      "1500/1500 - 9s - loss: 0.0326 - accuracy: 0.9893 - val_loss: 0.0904 - val_accuracy: 0.9756 - 9s/epoch - 6ms/step\n",
      "Epoch 6/10\n",
      "\n",
      "Epoch 6: val_loss did not improve from 0.08435\n",
      "1500/1500 - 9s - loss: 0.0273 - accuracy: 0.9912 - val_loss: 0.1000 - val_accuracy: 0.9748 - 9s/epoch - 6ms/step\n",
      "Epoch 7/10\n",
      "\n",
      "Epoch 7: val_loss did not improve from 0.08435\n",
      "1500/1500 - 9s - loss: 0.0252 - accuracy: 0.9919 - val_loss: 0.1178 - val_accuracy: 0.9722 - 9s/epoch - 6ms/step\n",
      "Epoch 8/10\n",
      "\n",
      "Epoch 8: val_loss did not improve from 0.08435\n",
      "1500/1500 - 9s - loss: 0.0175 - accuracy: 0.9942 - val_loss: 0.1051 - val_accuracy: 0.9772 - 9s/epoch - 6ms/step\n",
      "Epoch 9/10\n",
      "\n",
      "Epoch 9: val_loss did not improve from 0.08435\n",
      "1500/1500 - 10s - loss: 0.0188 - accuracy: 0.9940 - val_loss: 0.1057 - val_accuracy: 0.9776 - 10s/epoch - 6ms/step\n",
      "Epoch 10/10\n",
      "\n",
      "Epoch 10: val_loss did not improve from 0.08435\n",
      "1500/1500 - 10s - loss: 0.0148 - accuracy: 0.9956 - val_loss: 0.1368 - val_accuracy: 0.9728 - 10s/epoch - 7ms/step\n"
     ]
    }
   ],
   "source": [
    "# 8. Training\n",
    "\n",
    "ann_train = ann_model.fit(xtrain, y_train, epochs=10,\n",
    "                  validation_split=0.2,\n",
    "                  batch_size=32,\n",
    "                  callbacks=[checkpoint],\n",
    "                  verbose = 2, shuffle=True)"
   ]
  },
  {
   "cell_type": "code",
   "execution_count": 30,
   "id": "cc8645e8",
   "metadata": {
    "id": "cc8645e8"
   },
   "outputs": [],
   "source": [
    "ann_model.save('handwrittendigits_ann_model.h5')"
   ]
  },
  {
   "cell_type": "code",
   "execution_count": 31,
   "id": "87c2fc02",
   "metadata": {
    "colab": {
     "base_uri": "https://localhost:8080/"
    },
    "id": "87c2fc02",
    "outputId": "994e5aac-3fef-4eeb-cb1b-368960f74c0a"
   },
   "outputs": [
    {
     "name": "stdout",
     "output_type": "stream",
     "text": [
      "('Train score : ', [0.050263412296772, 0.987416684627533], 'Test score : ', [0.12596139311790466, 0.9740999937057495])\n"
     ]
    }
   ],
   "source": [
    "print(acc_loss_calc(ann_model, xtrain, xtest, y_train, y_test))"
   ]
  },
  {
   "cell_type": "code",
   "execution_count": 32,
   "id": "c7822025",
   "metadata": {
    "colab": {
     "base_uri": "https://localhost:8080/",
     "height": 449
    },
    "id": "c7822025",
    "outputId": "eceee315-20c5-4bcd-b612-124fbce1d74b"
   },
   "outputs": [
    {
     "data": {
      "image/png": "[encoded data removed]",
      "text/plain": [
       "<Figure size 432x288 with 1 Axes>"
      ]
     },
     "metadata": {
      "needs_background": "light"
     },
     "output_type": "display_data"
    }
   ],
   "source": [
    "plt.plot(ann_train.history['loss'], label='train_loss')\n",
    "plt.plot(ann_train.history['val_loss'], label='val_loss')\n",
    "plt.xlabel('Epoch')\n",
    "plt.ylabel('Loss Percentage')\n",
    "plt.show()"
   ]
  },
  {
   "cell_type": "code",
   "execution_count": 33,
   "id": "2430d31e",
   "metadata": {
    "colab": {
     "base_uri": "https://localhost:8080/",
     "height": 449
    },
    "id": "2430d31e",
    "outputId": "e81f81bd-f9d0-4d5d-d059-fe3799a6eda3"
   },
   "outputs": [
    {
     "data": {
      "image/png": "[encoded data removed]",
      "text/plain": [
       "<Figure size 432x288 with 1 Axes>"
      ]
     },
     "metadata": {
      "needs_background": "light"
     },
     "output_type": "display_data"
    }
   ],
   "source": [
    "plt.plot(cnn_train.history['accuracy'], label='train_accuracy')\n",
    "plt.plot(cnn_train.history['val_accuracy'], label='val_accuracy')\n",
    "plt.xlabel('Epoch')\n",
    "plt.ylabel('Accuracy Percentage')\n",
    "plt.show()"
   ]
  },
  {
   "cell_type": "code",
   "execution_count": 34,
   "id": "86c70182",
   "metadata": {
    "colab": {
     "base_uri": "https://localhost:8080/",
     "height": 436
    },
    "id": "86c70182",
    "outputId": "3eaf426e-de03-4d30-e08e-cbe60745932a"
   },
   "outputs": [
    {
     "name": "stdout",
     "output_type": "stream",
     "text": [
      "313/313 [==============================] - 1s 2ms/step\n"
     ]
    },
    {
     "data": {
      "image/png": "[encoded data removed]",
      "text/plain": [
       "<Figure size 1440x720 with 50 Axes>"
      ]
     },
     "metadata": {},
     "output_type": "display_data"
    }
   ],
   "source": [
    "img_visual(ann_model, xtest, y_test)"
   ]
  },
  {
   "cell_type": "markdown",
   "id": "6978aebf",
   "metadata": {
    "id": "6978aebf"
   },
   "source": [
    "## K-Nearest Neighbour Model"
   ]
  },
  {
   "cell_type": "code",
   "execution_count": 35,
   "id": "e37d769e",
   "metadata": {
    "id": "e37d769e"
   },
   "outputs": [],
   "source": [
    "from sklearn.neighbors import KNeighborsClassifier"
   ]
  },
  {
   "cell_type": "code",
   "execution_count": 36,
   "id": "8f030bbe",
   "metadata": {
    "id": "8f030bbe"
   },
   "outputs": [],
   "source": [
    "x_train = xtrain.reshape(60000, 784)\n",
    "x_test = xtest.reshape(10000, 784)\n",
    "\n",
    "from sklearn.datasets import fetch_openml\n",
    "from sklearn.model_selection import train_test_split\n",
    "import ssl\n",
    "ssl._create_default_https_context = ssl._create_unverified_context\n",
    "\n",
    "# Load the MNIST dataset\n",
    "mnist = fetch_openml('mnist_784')\n",
    "\n",
    "from sklearn.preprocessing import StandardScaler\n",
    "scaler=StandardScaler()\n",
    "scaled_data = scaler.fit_transform(mnist['data'])\n",
    "\n",
    "# Split the dataset into training and test sets\n",
    "xtrain_knn, xtest_knn, ytrain_knn, ytest_knn = train_test_split(scaled_data, mnist['target'], test_size=0.3)\n"
   ]
  },
  {
   "cell_type": "code",
   "execution_count": 37,
   "id": "a53bad5a",
   "metadata": {
    "colab": {
     "base_uri": "https://localhost:8080/"
    },
    "id": "a53bad5a",
    "outputId": "f01c7f03-c260-4160-92dc-efbd61f0ed14"
   },
   "outputs": [
    {
     "data": {
      "text/plain": [
       "(numpy.ndarray,\n",
       " numpy.ndarray,\n",
       " pandas.core.series.Series,\n",
       " pandas.core.series.Series)"
      ]
     },
     "execution_count": 37,
     "metadata": {},
     "output_type": "execute_result"
    }
   ],
   "source": [
    "type(xtrain_knn), type(xtest_knn), type(ytrain_knn), type(ytest_knn)"
   ]
  },
  {
   "cell_type": "code",
   "execution_count": 38,
   "id": "dfcbf81e",
   "metadata": {
    "colab": {
     "base_uri": "https://localhost:8080/",
     "height": 74
    },
    "id": "dfcbf81e",
    "outputId": "5e242195-ddbd-4cad-ca84-501796b1d8da"
   },
   "outputs": [
    {
     "data": {
      "text/plain": [
       "KNeighborsClassifier(n_neighbors=1)"
      ]
     },
     "execution_count": 38,
     "metadata": {},
     "output_type": "execute_result"
    }
   ],
   "source": [
    "knn_model = KNeighborsClassifier(n_neighbors = 1)\n",
    "knn_model.fit(xtrain_knn, ytrain_knn)"
   ]
  },
  {
   "cell_type": "code",
   "execution_count": 39,
   "id": "57f6b887",
   "metadata": {
    "id": "57f6b887"
   },
   "outputs": [],
   "source": [
    "knn_pred = knn_model.predict(xtest_knn)"
   ]
  },
  {
   "cell_type": "code",
   "execution_count": 40,
   "id": "ed3137e5",
   "metadata": {
    "id": "ed3137e5"
   },
   "outputs": [],
   "source": [
    "from sklearn.metrics import confusion_matrix, f1_score, accuracy_score, classification_report"
   ]
  },
  {
   "cell_type": "code",
   "execution_count": 41,
   "id": "3deb1a28",
   "metadata": {
    "colab": {
     "base_uri": "https://localhost:8080/",
     "height": 394
    },
    "id": "3deb1a28",
    "outputId": "f78bff90-9190-4a8b-a1e6-3fba330e2023"
   },
   "outputs": [
    {
     "data": {
      "text/html": [
       "<div>\n",
       "<style scoped>\n",
       "    .dataframe tbody tr th:only-of-type {\n",
       "        vertical-align: middle;\n",
       "    }\n",
       "\n",
       "    .dataframe tbody tr th {\n",
       "        vertical-align: top;\n",
       "    }\n",
       "\n",
       "    .dataframe thead th {\n",
       "        text-align: right;\n",
       "    }\n",
       "</style>\n",
       "<table border=\"1\" class=\"dataframe\">\n",
       "  <thead>\n",
       "    <tr style=\"text-align: right;\">\n",
       "      <th>col_0</th>\n",
       "      <th>0</th>\n",
       "      <th>1</th>\n",
       "      <th>2</th>\n",
       "      <th>3</th>\n",
       "      <th>4</th>\n",
       "      <th>5</th>\n",
       "      <th>6</th>\n",
       "      <th>7</th>\n",
       "      <th>8</th>\n",
       "      <th>9</th>\n",
       "    </tr>\n",
       "    <tr>\n",
       "      <th>class</th>\n",
       "      <th></th>\n",
       "      <th></th>\n",
       "      <th></th>\n",
       "      <th></th>\n",
       "      <th></th>\n",
       "      <th></th>\n",
       "      <th></th>\n",
       "      <th></th>\n",
       "      <th></th>\n",
       "      <th></th>\n",
       "    </tr>\n",
       "  </thead>\n",
       "  <tbody>\n",
       "    <tr>\n",
       "      <th>0</th>\n",
       "      <td>2128</td>\n",
       "      <td>2</td>\n",
       "      <td>4</td>\n",
       "      <td>4</td>\n",
       "      <td>0</td>\n",
       "      <td>8</td>\n",
       "      <td>20</td>\n",
       "      <td>1</td>\n",
       "      <td>1</td>\n",
       "      <td>1</td>\n",
       "    </tr>\n",
       "    <tr>\n",
       "      <th>1</th>\n",
       "      <td>1</td>\n",
       "      <td>2377</td>\n",
       "      <td>9</td>\n",
       "      <td>2</td>\n",
       "      <td>4</td>\n",
       "      <td>2</td>\n",
       "      <td>4</td>\n",
       "      <td>7</td>\n",
       "      <td>0</td>\n",
       "      <td>1</td>\n",
       "    </tr>\n",
       "    <tr>\n",
       "      <th>2</th>\n",
       "      <td>12</td>\n",
       "      <td>12</td>\n",
       "      <td>1910</td>\n",
       "      <td>30</td>\n",
       "      <td>4</td>\n",
       "      <td>3</td>\n",
       "      <td>16</td>\n",
       "      <td>26</td>\n",
       "      <td>12</td>\n",
       "      <td>8</td>\n",
       "    </tr>\n",
       "    <tr>\n",
       "      <th>3</th>\n",
       "      <td>1</td>\n",
       "      <td>3</td>\n",
       "      <td>28</td>\n",
       "      <td>2039</td>\n",
       "      <td>3</td>\n",
       "      <td>43</td>\n",
       "      <td>3</td>\n",
       "      <td>24</td>\n",
       "      <td>22</td>\n",
       "      <td>17</td>\n",
       "    </tr>\n",
       "    <tr>\n",
       "      <th>4</th>\n",
       "      <td>0</td>\n",
       "      <td>18</td>\n",
       "      <td>11</td>\n",
       "      <td>0</td>\n",
       "      <td>1841</td>\n",
       "      <td>6</td>\n",
       "      <td>6</td>\n",
       "      <td>12</td>\n",
       "      <td>7</td>\n",
       "      <td>68</td>\n",
       "    </tr>\n",
       "    <tr>\n",
       "      <th>5</th>\n",
       "      <td>8</td>\n",
       "      <td>1</td>\n",
       "      <td>3</td>\n",
       "      <td>55</td>\n",
       "      <td>5</td>\n",
       "      <td>1735</td>\n",
       "      <td>35</td>\n",
       "      <td>4</td>\n",
       "      <td>29</td>\n",
       "      <td>23</td>\n",
       "    </tr>\n",
       "    <tr>\n",
       "      <th>6</th>\n",
       "      <td>32</td>\n",
       "      <td>4</td>\n",
       "      <td>9</td>\n",
       "      <td>4</td>\n",
       "      <td>6</td>\n",
       "      <td>13</td>\n",
       "      <td>2047</td>\n",
       "      <td>0</td>\n",
       "      <td>3</td>\n",
       "      <td>0</td>\n",
       "    </tr>\n",
       "    <tr>\n",
       "      <th>7</th>\n",
       "      <td>2</td>\n",
       "      <td>19</td>\n",
       "      <td>12</td>\n",
       "      <td>3</td>\n",
       "      <td>16</td>\n",
       "      <td>0</td>\n",
       "      <td>0</td>\n",
       "      <td>1993</td>\n",
       "      <td>2</td>\n",
       "      <td>56</td>\n",
       "    </tr>\n",
       "    <tr>\n",
       "      <th>8</th>\n",
       "      <td>15</td>\n",
       "      <td>19</td>\n",
       "      <td>11</td>\n",
       "      <td>37</td>\n",
       "      <td>13</td>\n",
       "      <td>51</td>\n",
       "      <td>15</td>\n",
       "      <td>9</td>\n",
       "      <td>1808</td>\n",
       "      <td>19</td>\n",
       "    </tr>\n",
       "    <tr>\n",
       "      <th>9</th>\n",
       "      <td>5</td>\n",
       "      <td>1</td>\n",
       "      <td>4</td>\n",
       "      <td>16</td>\n",
       "      <td>49</td>\n",
       "      <td>7</td>\n",
       "      <td>0</td>\n",
       "      <td>65</td>\n",
       "      <td>8</td>\n",
       "      <td>1968</td>\n",
       "    </tr>\n",
       "  </tbody>\n",
       "</table>\n",
       "</div>"
      ],
      "text/plain": [
       "col_0     0     1     2     3     4     5     6     7     8     9\n",
       "class                                                            \n",
       "0      2128     2     4     4     0     8    20     1     1     1\n",
       "1         1  2377     9     2     4     2     4     7     0     1\n",
       "2        12    12  1910    30     4     3    16    26    12     8\n",
       "3         1     3    28  2039     3    43     3    24    22    17\n",
       "4         0    18    11     0  1841     6     6    12     7    68\n",
       "5         8     1     3    55     5  1735    35     4    29    23\n",
       "6        32     4     9     4     6    13  2047     0     3     0\n",
       "7         2    19    12     3    16     0     0  1993     2    56\n",
       "8        15    19    11    37    13    51    15     9  1808    19\n",
       "9         5     1     4    16    49     7     0    65     8  1968"
      ]
     },
     "execution_count": 41,
     "metadata": {},
     "output_type": "execute_result"
    }
   ],
   "source": [
    "pd.crosstab(ytest_knn, knn_pred)"
   ]
  },
  {
   "cell_type": "code",
   "execution_count": 42,
   "id": "0b459144",
   "metadata": {
    "colab": {
     "base_uri": "https://localhost:8080/"
    },
    "id": "0b459144",
    "outputId": "7d4622a6-849d-4b73-9807-90d654e8f438"
   },
   "outputs": [
    {
     "name": "stdout",
     "output_type": "stream",
     "text": [
      "              precision    recall  f1-score   support\n",
      "\n",
      "           0       0.97      0.98      0.97      2169\n",
      "           1       0.97      0.99      0.98      2407\n",
      "           2       0.95      0.94      0.95      2033\n",
      "           3       0.93      0.93      0.93      2183\n",
      "           4       0.95      0.93      0.94      1969\n",
      "           5       0.93      0.91      0.92      1898\n",
      "           6       0.95      0.97      0.96      2118\n",
      "           7       0.93      0.95      0.94      2103\n",
      "           8       0.96      0.91      0.93      1997\n",
      "           9       0.91      0.93      0.92      2123\n",
      "\n",
      "    accuracy                           0.95     21000\n",
      "   macro avg       0.94      0.94      0.94     21000\n",
      "weighted avg       0.95      0.95      0.94     21000\n",
      "\n"
     ]
    }
   ],
   "source": [
    "print(classification_report(ytest_knn, knn_pred))"
   ]
  },
  {
   "cell_type": "markdown",
   "id": "0eed1126",
   "metadata": {
    "id": "0eed1126"
   },
   "source": [
    "## Support Vector Machine model"
   ]
  },
  {
   "cell_type": "code",
   "execution_count": 43,
   "id": "f3720ea9",
   "metadata": {
    "id": "f3720ea9"
   },
   "outputs": [],
   "source": [
    "from sklearn.svm import SVC\n",
    "from sklearn.metrics import confusion_matrix, classification_report"
   ]
  },
  {
   "cell_type": "code",
   "execution_count": 44,
   "id": "0f7d203c",
   "metadata": {
    "colab": {
     "base_uri": "https://localhost:8080/",
     "height": 93
    },
    "id": "0f7d203c",
    "outputId": "0f99b25f-45a0-4044-8f66-755dc3f39d0c"
   },
   "outputs": [
    {
     "name": "stdout",
     "output_type": "stream",
     "text": [
      "[LibSVM]"
     ]
    },
    {
     "data": {
      "text/plain": [
       "SVC(verbose=2)"
      ]
     },
     "execution_count": 44,
     "metadata": {},
     "output_type": "execute_result"
    }
   ],
   "source": [
    "svc_model = SVC(verbose=2)\n",
    "svc_model.fit(xtrain_knn, ytrain_knn)"
   ]
  },
  {
   "cell_type": "code",
   "execution_count": 45,
   "id": "2ce70d61",
   "metadata": {
    "id": "2ce70d61"
   },
   "outputs": [],
   "source": [
    "svc_pred = svc_model.predict(xtest_knn)"
   ]
  },
  {
   "cell_type": "code",
   "execution_count": 46,
   "id": "274babf1",
   "metadata": {
    "colab": {
     "base_uri": "https://localhost:8080/",
     "height": 394
    },
    "id": "274babf1",
    "outputId": "be55e4a1-a9c1-4193-cbaf-dfb0be17e350"
   },
   "outputs": [
    {
     "data": {
      "text/html": [
       "<div>\n",
       "<style scoped>\n",
       "    .dataframe tbody tr th:only-of-type {\n",
       "        vertical-align: middle;\n",
       "    }\n",
       "\n",
       "    .dataframe tbody tr th {\n",
       "        vertical-align: top;\n",
       "    }\n",
       "\n",
       "    .dataframe thead th {\n",
       "        text-align: right;\n",
       "    }\n",
       "</style>\n",
       "<table border=\"1\" class=\"dataframe\">\n",
       "  <thead>\n",
       "    <tr style=\"text-align: right;\">\n",
       "      <th>col_0</th>\n",
       "      <th>0</th>\n",
       "      <th>1</th>\n",
       "      <th>2</th>\n",
       "      <th>3</th>\n",
       "      <th>4</th>\n",
       "      <th>5</th>\n",
       "      <th>6</th>\n",
       "      <th>7</th>\n",
       "      <th>8</th>\n",
       "      <th>9</th>\n",
       "    </tr>\n",
       "    <tr>\n",
       "      <th>class</th>\n",
       "      <th></th>\n",
       "      <th></th>\n",
       "      <th></th>\n",
       "      <th></th>\n",
       "      <th></th>\n",
       "      <th></th>\n",
       "      <th></th>\n",
       "      <th></th>\n",
       "      <th></th>\n",
       "      <th></th>\n",
       "    </tr>\n",
       "  </thead>\n",
       "  <tbody>\n",
       "    <tr>\n",
       "      <th>0</th>\n",
       "      <td>2128</td>\n",
       "      <td>1</td>\n",
       "      <td>4</td>\n",
       "      <td>4</td>\n",
       "      <td>1</td>\n",
       "      <td>5</td>\n",
       "      <td>14</td>\n",
       "      <td>6</td>\n",
       "      <td>6</td>\n",
       "      <td>0</td>\n",
       "    </tr>\n",
       "    <tr>\n",
       "      <th>1</th>\n",
       "      <td>0</td>\n",
       "      <td>2367</td>\n",
       "      <td>12</td>\n",
       "      <td>11</td>\n",
       "      <td>1</td>\n",
       "      <td>0</td>\n",
       "      <td>2</td>\n",
       "      <td>8</td>\n",
       "      <td>5</td>\n",
       "      <td>1</td>\n",
       "    </tr>\n",
       "    <tr>\n",
       "      <th>2</th>\n",
       "      <td>6</td>\n",
       "      <td>3</td>\n",
       "      <td>1969</td>\n",
       "      <td>11</td>\n",
       "      <td>6</td>\n",
       "      <td>0</td>\n",
       "      <td>6</td>\n",
       "      <td>19</td>\n",
       "      <td>10</td>\n",
       "      <td>3</td>\n",
       "    </tr>\n",
       "    <tr>\n",
       "      <th>3</th>\n",
       "      <td>1</td>\n",
       "      <td>5</td>\n",
       "      <td>24</td>\n",
       "      <td>2064</td>\n",
       "      <td>3</td>\n",
       "      <td>24</td>\n",
       "      <td>1</td>\n",
       "      <td>34</td>\n",
       "      <td>21</td>\n",
       "      <td>6</td>\n",
       "    </tr>\n",
       "    <tr>\n",
       "      <th>4</th>\n",
       "      <td>2</td>\n",
       "      <td>7</td>\n",
       "      <td>20</td>\n",
       "      <td>0</td>\n",
       "      <td>1888</td>\n",
       "      <td>3</td>\n",
       "      <td>8</td>\n",
       "      <td>7</td>\n",
       "      <td>3</td>\n",
       "      <td>31</td>\n",
       "    </tr>\n",
       "    <tr>\n",
       "      <th>5</th>\n",
       "      <td>5</td>\n",
       "      <td>3</td>\n",
       "      <td>6</td>\n",
       "      <td>20</td>\n",
       "      <td>5</td>\n",
       "      <td>1798</td>\n",
       "      <td>27</td>\n",
       "      <td>19</td>\n",
       "      <td>11</td>\n",
       "      <td>4</td>\n",
       "    </tr>\n",
       "    <tr>\n",
       "      <th>6</th>\n",
       "      <td>9</td>\n",
       "      <td>1</td>\n",
       "      <td>6</td>\n",
       "      <td>1</td>\n",
       "      <td>6</td>\n",
       "      <td>13</td>\n",
       "      <td>2053</td>\n",
       "      <td>19</td>\n",
       "      <td>10</td>\n",
       "      <td>0</td>\n",
       "    </tr>\n",
       "    <tr>\n",
       "      <th>7</th>\n",
       "      <td>3</td>\n",
       "      <td>10</td>\n",
       "      <td>11</td>\n",
       "      <td>1</td>\n",
       "      <td>14</td>\n",
       "      <td>0</td>\n",
       "      <td>0</td>\n",
       "      <td>2034</td>\n",
       "      <td>3</td>\n",
       "      <td>27</td>\n",
       "    </tr>\n",
       "    <tr>\n",
       "      <th>8</th>\n",
       "      <td>4</td>\n",
       "      <td>15</td>\n",
       "      <td>12</td>\n",
       "      <td>12</td>\n",
       "      <td>4</td>\n",
       "      <td>19</td>\n",
       "      <td>10</td>\n",
       "      <td>17</td>\n",
       "      <td>1895</td>\n",
       "      <td>9</td>\n",
       "    </tr>\n",
       "    <tr>\n",
       "      <th>9</th>\n",
       "      <td>4</td>\n",
       "      <td>4</td>\n",
       "      <td>7</td>\n",
       "      <td>21</td>\n",
       "      <td>23</td>\n",
       "      <td>5</td>\n",
       "      <td>0</td>\n",
       "      <td>53</td>\n",
       "      <td>5</td>\n",
       "      <td>2001</td>\n",
       "    </tr>\n",
       "  </tbody>\n",
       "</table>\n",
       "</div>"
      ],
      "text/plain": [
       "col_0     0     1     2     3     4     5     6     7     8     9\n",
       "class                                                            \n",
       "0      2128     1     4     4     1     5    14     6     6     0\n",
       "1         0  2367    12    11     1     0     2     8     5     1\n",
       "2         6     3  1969    11     6     0     6    19    10     3\n",
       "3         1     5    24  2064     3    24     1    34    21     6\n",
       "4         2     7    20     0  1888     3     8     7     3    31\n",
       "5         5     3     6    20     5  1798    27    19    11     4\n",
       "6         9     1     6     1     6    13  2053    19    10     0\n",
       "7         3    10    11     1    14     0     0  2034     3    27\n",
       "8         4    15    12    12     4    19    10    17  1895     9\n",
       "9         4     4     7    21    23     5     0    53     5  2001"
      ]
     },
     "execution_count": 46,
     "metadata": {},
     "output_type": "execute_result"
    }
   ],
   "source": [
    "pd.crosstab(ytest_knn, svc_pred)"
   ]
  },
  {
   "cell_type": "code",
   "execution_count": 47,
   "id": "759062ac",
   "metadata": {
    "colab": {
     "base_uri": "https://localhost:8080/"
    },
    "id": "759062ac",
    "outputId": "bf34dc38-46a8-467a-e643-3fb78bd81cdc"
   },
   "outputs": [
    {
     "name": "stdout",
     "output_type": "stream",
     "text": [
      "              precision    recall  f1-score   support\n",
      "\n",
      "           0       0.98      0.98      0.98      2169\n",
      "           1       0.98      0.98      0.98      2407\n",
      "           2       0.95      0.97      0.96      2033\n",
      "           3       0.96      0.95      0.95      2183\n",
      "           4       0.97      0.96      0.96      1969\n",
      "           5       0.96      0.95      0.96      1898\n",
      "           6       0.97      0.97      0.97      2118\n",
      "           7       0.92      0.97      0.94      2103\n",
      "           8       0.96      0.95      0.96      1997\n",
      "           9       0.96      0.94      0.95      2123\n",
      "\n",
      "    accuracy                           0.96     21000\n",
      "   macro avg       0.96      0.96      0.96     21000\n",
      "weighted avg       0.96      0.96      0.96     21000\n",
      "\n"
     ]
    }
   ],
   "source": [
    "print(classification_report(ytest_knn, svc_pred))"
   ]
  },
  {
   "cell_type": "markdown",
   "id": "9cf3fc60",
   "metadata": {
    "id": "9cf3fc60"
   },
   "source": [
    "## XGBoost Classifier"
   ]
  },
  {
   "cell_type": "code",
   "execution_count": 48,
   "id": "1b231b2d",
   "metadata": {
    "id": "1b231b2d"
   },
   "outputs": [],
   "source": [
    "from xgboost import XGBClassifier\n",
    "\n",
    "# Train the XGBoost model\n",
    "xgb_model = XGBClassifier(n_jobs=-1)\n"
   ]
  },
  {
   "cell_type": "code",
   "execution_count": 49,
   "id": "21e617f9",
   "metadata": {
    "colab": {
     "base_uri": "https://localhost:8080/",
     "height": 248
    },
    "id": "21e617f9",
    "outputId": "ca4ba3e1-2538-4123-e82c-77a3135ac1ed"
   },
   "outputs": [
    {
     "data": {
      "text/plain": [
       "XGBClassifier(base_score=None, booster=None, callbacks=None,\n",
       "              colsample_bylevel=None, colsample_bynode=None,\n",
       "              colsample_bytree=None, early_stopping_rounds=None,\n",
       "              enable_categorical=False, eval_metric=None, feature_types=None,\n",
       "              gamma=None, gpu_id=None, grow_policy=None, importance_type=None,\n",
       "              interaction_constraints=None, learning_rate=None, max_bin=None,\n",
       "              max_cat_threshold=None, max_cat_to_onehot=None,\n",
       "              max_delta_step=None, max_depth=None, max_leaves=None,\n",
       "              min_child_weight=None, missing=nan, monotone_constraints=None,\n",
       "              n_estimators=100, n_jobs=-1, num_parallel_tree=None,\n",
       "              predictor=None, random_state=None, ...)"
      ]
     },
     "execution_count": 49,
     "metadata": {},
     "output_type": "execute_result"
    }
   ],
   "source": [
    "xgb_model.fit(x_train, y_train)"
   ]
  },
  {
   "cell_type": "code",
   "execution_count": 50,
   "id": "244cac14",
   "metadata": {
    "id": "244cac14"
   },
   "outputs": [],
   "source": [
    "# Evaluate the model on the test set\n",
    "xgb_pred = xgb_model.predict(x_test)"
   ]
  },
  {
   "cell_type": "code",
   "execution_count": 51,
   "id": "b68e708d",
   "metadata": {
    "colab": {
     "base_uri": "https://localhost:8080/"
    },
    "id": "b68e708d",
    "outputId": "c57327ea-ec00-4f90-e1a9-ed00194492be"
   },
   "outputs": [
    {
     "name": "stdout",
     "output_type": "stream",
     "text": [
      "              precision    recall  f1-score   support\n",
      "\n",
      "           0       0.99      0.99      0.99       980\n",
      "           1       0.99      0.99      0.99      1135\n",
      "           2       0.99      0.96      0.97      1032\n",
      "           3       0.99      0.96      0.97      1010\n",
      "           4       0.99      0.96      0.97       982\n",
      "           5       0.99      0.95      0.97       892\n",
      "           6       0.99      0.97      0.98       958\n",
      "           7       0.98      0.95      0.97      1028\n",
      "           8       0.98      0.94      0.96       974\n",
      "           9       0.98      0.94      0.96      1009\n",
      "\n",
      "   micro avg       0.99      0.96      0.97     10000\n",
      "   macro avg       0.99      0.96      0.97     10000\n",
      "weighted avg       0.99      0.96      0.97     10000\n",
      " samples avg       0.96      0.96      0.96     10000\n",
      "\n"
     ]
    }
   ],
   "source": [
    "print(classification_report(y_test, xgb_pred))"
   ]
  },
  {
   "cell_type": "markdown",
   "id": "6cdbca60",
   "metadata": {
    "id": "6cdbca60"
   },
   "source": [
    "# Image Prediction"
   ]
  },
  {
   "cell_type": "code",
   "execution_count": 4,
   "id": "e70a4bc6",
   "metadata": {
    "colab": {
     "base_uri": "https://localhost:8080/",
     "height": 475
    },
    "id": "e70a4bc6",
    "outputId": "a18be7a7-47d7-4577-b6ca-1d93eca23b76"
   },
   "outputs": [
    {
     "name": "stdout",
     "output_type": "stream",
     "text": [
      "1/1 [==============================] - 0s 111ms/step\n"
     ]
    },
    {
     "data": {
      "image/png": "[encoded data removed]",
      "text/plain": [
       "<Figure size 432x288 with 1 Axes>"
      ]
     },
     "metadata": {
      "needs_background": "light"
     },
     "output_type": "display_data"
    }
   ],
   "source": [
    "from keras import models\n",
    "from keras.utils import load_img, img_to_array\n",
    "\n",
    "hwd_prediction_model = models.load_model('handwrittendigits_cnn_model.h5')\n",
    "\n",
    "def hwd_prediction(filename, model):\n",
    "    imge = load_img(filename, color_mode=\"grayscale\", target_size=(28, 28))\n",
    "    image = img_to_array(imge)\n",
    "    image1 = np.expand_dims(image, axis=0)\n",
    "\n",
    "    # Make a prediction\n",
    "    prediction = model.predict(image1)\n",
    "\n",
    "    # Get the predicted class\n",
    "    predicted_class = np.argmax(prediction)\n",
    "\n",
    "    # Display the image with its predicted label as title\n",
    "    plt.title('Prediction - {}'.format(predicted_class), size=18, color='green')\n",
    "    plt.imshow(image, cmap='gray')\n",
    "    plt.show()\n",
    "\n",
    "hwd_prediction(r\"C:\\Users\\MUKESH L\\Downloads\\Handwritten-digits-from-the-MNIST-data-set-5-For-practical-machine-learning-tasks.png\", hwd_prediction_model)\n"
   ]
  },
  {
   "cell_type": "markdown",
   "id": "04b482ab",
   "metadata": {
    "id": "04b482ab"
   },
   "source": [
    "# Summary"
   ]
  },
  {
   "cell_type": "markdown",
   "id": "8e261758",
   "metadata": {
    "id": "8e261758"
   },
   "source": [
    "* CNN/ANN are algorithms of deep learning techniques that has been successfully invoked for handling\n",
    "   computer vision issues such as picture classification, object segmentation, and image analysis.\n",
    "* They have been used to address the classification of minst dataset accurate detection and classification\n",
    "   of handwritten digits.\n",
    "* Apart from Deep learning algorithms, I've utilized SVM, KNN & XGBoosting from machine learning to do the image classification"
   ]
  },
  {
   "cell_type": "markdown",
   "id": "9dfc54e6",
   "metadata": {
    "id": "9dfc54e6"
   },
   "source": [
    "# Insights from the models"
   ]
  },
  {
   "cell_type": "markdown",
   "id": "8f17e1c6",
   "metadata": {
    "id": "8f17e1c6"
   },
   "source": [
    "The accuracies from the models are listed below :\n",
    "1. cnn model - 99.67%\n",
    "2. ann model - 99.36%\n",
    "3. knn model - 94.00%\n",
    "4. svm model - 96.00%\n",
    "5. xgb model - 97.00%"
   ]
  },
  {
   "cell_type": "markdown",
   "id": "ec56626a",
   "metadata": {
    "id": "ec56626a"
   },
   "source": [
    "# Conclusion"
   ]
  },
  {
   "cell_type": "markdown",
   "id": "f99583a1",
   "metadata": {
    "id": "f99583a1"
   },
   "source": [
    "CNN/ANN are widely regarded as the most successful techniques for any prediction problem involving input image data. Various CNN/ANN methods with learning rate approach have been studied for the classification of images"
   ]
  },
  {
   "cell_type": "markdown",
   "id": "ed17235b",
   "metadata": {
    "id": "ed17235b"
   },
   "source": [
    "# Challenges Faced"
   ]
  },
  {
   "cell_type": "markdown",
   "id": "3f183d6b",
   "metadata": {
    "id": "3f183d6b"
   },
   "source": [
    "Hyper parameter tuning is not feasible due to time constraint which we tried both Grid & RandomizedCV"
   ]
  },
  {
   "cell_type": "markdown",
   "id": "1e6c78df",
   "metadata": {
    "id": "00a792d4"
   },
   "source": [
    "# Implementation with Flask deployment\n",
    "\n",
    "  To identify the predictions using Flask with the help of web application "
   ]
  },
  {
   "cell_type": "code",
   "execution_count": null,
   "id": "ab2b97e4",
   "metadata": {},
   "outputs": [
    {
     "name": "stdout",
     "output_type": "stream",
     "text": [
      " * Serving Flask app \"__main__\" (lazy loading)\n",
      " * Environment: production\n",
      "\u001b[31m   WARNING: This is a development server. Do not use it in a production deployment.\u001b[0m\n",
      "\u001b[2m   Use a production WSGI server instead.\u001b[0m\n",
      " * Debug mode: off\n"
     ]
    },
    {
     "name": "stderr",
     "output_type": "stream",
     "text": [
      " * Running on http://127.0.0.1:5000/ (Press CTRL+C to quit)\n",
      "127.0.0.1 - - [20/Sep/2023 14:20:38] \"GET / HTTP/1.1\" 200 -\n",
      "127.0.0.1 - - [20/Sep/2023 14:20:38] \"GET /static/css/normalize.css HTTP/1.1\" 404 -\n",
      "127.0.0.1 - - [20/Sep/2023 14:20:38] \"GET /static/css/grid.css HTTP/1.1\" 404 -\n",
      "127.0.0.1 - - [20/Sep/2023 14:20:38] \"GET /static/css/style.css HTTP/1.1\" 404 -\n",
      "127.0.0.1 - - [20/Sep/2023 14:20:38] \"GET /static/css/front.jpg HTTP/1.1\" 404 -\n"
     ]
    },
    {
     "name": "stdout",
     "output_type": "stream",
     "text": [
      "1/1 [==============================] - 0s 70ms/step\n",
      "3\n",
      "1/1 [==============================] - 0s 20ms/step\n"
     ]
    },
    {
     "name": "stderr",
     "output_type": "stream",
     "text": [
      "127.0.0.1 - - [20/Sep/2023 14:20:44] \"POST /predict HTTP/1.1\" 200 -\n",
      "127.0.0.1 - - [20/Sep/2023 14:20:44] \"GET /static/css/grid.css HTTP/1.1\" 404 -\n",
      "127.0.0.1 - - [20/Sep/2023 14:20:44] \"GET /static/css/normalize.css HTTP/1.1\" 404 -\n",
      "127.0.0.1 - - [20/Sep/2023 14:20:44] \"GET /static/css/styleSucc.css HTTP/1.1\" 404 -\n"
     ]
    }
   ],
   "source": [
    "# Importing the libraries\n",
    "import os\n",
    "import uuid\n",
    "import flask\n",
    "import urllib\n",
    "import pickle,sklearn\n",
    "import numpy as np\n",
    "from PIL import Image\n",
    "from tensorflow.keras.models import load_model\n",
    "from flask import Flask , render_template  , request , send_file\n",
    "from tensorflow.keras.preprocessing.image import load_img , img_to_array\n",
    "\n",
    "# Creating the App for Flask \n",
    "app = Flask(__name__)\n",
    "\n",
    "# Fetching the Model using cnn model\n",
    "BASE_DIR = os.path.dirname(os.path.abspath('handwrittendigits_cnn_model.h5'))\n",
    "model = load_model(os.path.join(BASE_DIR ,'handwrittendigits_cnn_model.h5'))\n",
    "\n",
    "\n",
    "ALLOWED_EXT = set(['jpg', 'JPG' , 'jpeg' , 'png' , 'jfif'])\n",
    "\n",
    "def allowed_file(filename):\n",
    "    return '.' in filename and \\\n",
    "           filename.rsplit('.', 1)[1] in ALLOWED_EXT\n",
    "\n",
    "classes = [0,1,2,3,4,5,6,7,8,9]\n",
    "\n",
    "\n",
    "def predict(filename , model):\n",
    "    img = load_img(filename ,color_mode='grayscale', target_size = (28 , 28))\n",
    "    img = img_to_array(img)\n",
    "    img = np.expand_dims(img, axis=0)\n",
    "    \n",
    "    # Image prediction\n",
    "    result = model.predict(img)\n",
    "    # Get the prediction\n",
    "    predictions = np.argmax(result)\n",
    "    \n",
    "    return(result, predictions)\n",
    "\n",
    "@app.route('/')\n",
    "def home():\n",
    "        return render_template(\"index.html\")\n",
    "\n",
    "@app.route('/predict' , methods = ['GET' , 'POST'])\n",
    "def Handwrittendigits():\n",
    "    error = ''\n",
    "    target_img = os.path.join(os.getcwd() , 'static\\\\images')\n",
    "    if request.method == 'POST':\n",
    "        if(request.form):\n",
    "            link = request.form.get('link')\n",
    "            try :\n",
    "                resource = urllib.request.urlopen(link)\n",
    "                unique_filename = str(uuid.uuid4())\n",
    "                filename = unique_filename+\".jpg\"\n",
    "                img_path = os.path.join(target_img , filename)\n",
    "                output = open(img_path , \"wb\")\n",
    "                output.write(resource.read())\n",
    "                output.close()\n",
    "                img = filename\n",
    "                result, predictions = predict(img_path , model)\n",
    "\n",
    "                class_result , prob_result = predict(img_path , model)\n",
    "\n",
    "                predictions = {\n",
    "                      \"class1\":class_result[0]                    \n",
    "                }\n",
    "\n",
    "            except Exception as e : \n",
    "                print(str(e))\n",
    "                error = 'This image from this site is not accesible or inappropriate input'\n",
    "\n",
    "            if(len(error) == 0):\n",
    "                return  render_template('body.html' , img  = img , predictions = predictions)\n",
    "            else:\n",
    "                return render_template('index.html' ,predictions=predictions, error = error) \n",
    "\n",
    "\n",
    "            \n",
    "        elif (request.files):\n",
    "            file = request.files['file']\n",
    "            if file and allowed_file(file.filename):\n",
    "                file.save(os.path.join(target_img , file.filename))\n",
    "                img_path = os.path.join(target_img , file.filename)\n",
    "                img = file.filename\n",
    "                result, predicted_class = predict(img_path , model)\n",
    "                print(predicted_class)\n",
    "\n",
    "                class_result , prob_result = predict(img_path , model)\n",
    "\n",
    "                predictions = {\n",
    "                      \"class1\":class_result[0]\n",
    "                }\n",
    "\n",
    "            else:\n",
    "                error = \"Please upload images of jpg , jpeg and png extension only\"\n",
    "\n",
    "            if(len(error) == 0):\n",
    "                return  render_template('body.html' , img  = img , predictions = predictions)\n",
    "           \n",
    "\n",
    "            \n",
    "            else:\n",
    "                return render_template('index.html' ,predictions=predictions, error = error)\n",
    "\n",
    "    else:\n",
    "        return render_template('index.html')\n",
    "\n",
    "if __name__ == \"__main__\":\n",
    "    app.run()"
   ]
  },
  {
   "cell_type": "code",
   "execution_count": null,
   "id": "71a21ba2",
   "metadata": {},
   "outputs": [],
   "source": []
  }
 ],
 "metadata": {
  "accelerator": "GPU",
  "colab": {
   "gpuType": "T4",
   "provenance": []
  },
  "kernelspec": {
   "display_name": "Python 3 (ipykernel)",
   "language": "python",
   "name": "python3"
  },
  "language_info": {
   "codemirror_mode": {
    "name": "ipython",
    "version": 3
   },
   "file_extension": ".py",
   "mimetype": "text/x-python",
   "name": "python",
   "nbconvert_exporter": "python",
   "pygments_lexer": "ipython3",
   "version": "3.9.13"
  }
 },
 "nbformat": 4,
 "nbformat_minor": 5
}
