{
 "cells": [
  {
   "cell_type": "code",
   "execution_count": 1,
   "id": "2efc56b9-0887-4b04-8f66-8597916c3cf9",
   "metadata": {},
   "outputs": [],
   "source": [
    "import warnings\n",
    "warnings.filterwarnings('ignore')"
   ]
  },
  {
   "cell_type": "code",
   "execution_count": 2,
   "id": "e7ec3ab6-584b-4f1e-8982-fffcc3094040",
   "metadata": {},
   "outputs": [],
   "source": [
    "from langchain_community.document_loaders import PyPDFDirectoryLoader\n",
    "\n",
    "loader = PyPDFDirectoryLoader(\"E:\\GenAI\\wb1\\data\")\n",
    "document = loader.load()"
   ]
  },
  {
   "cell_type": "code",
   "execution_count": 3,
   "id": "0f3f5356-9368-4767-a038-d3966ac91409",
   "metadata": {},
   "outputs": [],
   "source": [
    "from langchain.text_splitter import RecursiveCharacterTextSplitter\n",
    "text_splitter = RecursiveCharacterTextSplitter(chunk_size=500, chunk_overlap=20)\n",
    "doc = text_splitter.split_documents(document)"
   ]
  },
  {
   "cell_type": "code",
   "execution_count": 4,
   "id": "50542999-8b91-45fc-9a39-dffe991f7ee4",
   "metadata": {},
   "outputs": [],
   "source": [
    "from langchain_community.embeddings import HuggingFaceEmbeddings\n",
    "\n",
    "embedding = HuggingFaceEmbeddings(model_name='all-MiniLM-L6-v2')"
   ]
  },
  {
   "cell_type": "code",
   "execution_count": 5,
   "id": "664cc7e2-2cf1-4532-9342-f1af300fef66",
   "metadata": {},
   "outputs": [],
   "source": [
    "from langchain_community.vectorstores import FAISS\n",
    "\n",
    "db = FAISS.from_documents(doc, embedding)\n",
    "db.save_local('faiss_index')\n",
    "\n",
    "newdb = db.load_local('faiss_index', embedding, allow_dangerous_deserialization=True)"
   ]
  },
  {
   "cell_type": "code",
   "execution_count": 28,
   "id": "ecc3b923-113a-45a9-8fe5-e9ae2abc8543",
   "metadata": {},
   "outputs": [],
   "source": [
    "from langchain_community.llms import CTransformers\n",
    "\n",
    "llm = CTransformers(model=\"E:\\GenAI\\llama_model\\llama-2-7b-chat.ggmlv3.q2_K.bin\",\n",
    "                    model_type='llama',\n",
    "                    config={'temperature':0,\n",
    "                            'max_new_tokens':250})      "
   ]
  },
  {
   "cell_type": "code",
   "execution_count": 7,
   "id": "e9a15af3-8051-49fa-ba94-985f42f3eea1",
   "metadata": {},
   "outputs": [],
   "source": [
    "from langchain.prompts import PromptTemplate, FewShotPromptTemplate\n",
    "\n",
    "template = \"\"\"\n",
    "Use the context to answer the question. Do not answer randomly if you don't know the answer.\n",
    "context:{context}\n",
    "question:{question}\n",
    "Only return helpful answer as below\n",
    "Helpful Answer:\n",
    "\"\"\"\n",
    "\n",
    "prompt = PromptTemplate(template=template, input_variables=['context', 'question'])\n",
    "chain_type_kwargs = {'prompt':prompt}"
   ]
  },
  {
   "cell_type": "code",
   "execution_count": 29,
   "id": "2ab6ce78-9eb5-43f7-948e-89c375da92fe",
   "metadata": {},
   "outputs": [],
   "source": [
    "from langchain.chains import RetrievalQA, LLMChain\n",
    "\n",
    "qa_chain = RetrievalQA.from_chain_type(llm=llm,\n",
    "                                       chain_type='stuff',\n",
    "                                       retriever=newdb.as_retriever(search_kwargs={'k':2}),\n",
    "                                       return_source_documents=True,\n",
    "                                       chain_type_kwargs=chain_type_kwargs)"
   ]
  },
  {
   "cell_type": "code",
   "execution_count": 30,
   "id": "b88ecc7e-5d20-43dc-aa87-642c4347897a",
   "metadata": {},
   "outputs": [
    {
     "data": {
      "text/plain": [
       "{'query': 'What are the qualifications of Rachel Green?',\n",
       " 'result': 'Rachel Green is a PhD student in English at the University of Illinois at Urbana-Champaign. She has a MA in English and a Summer Research Grant from the Center for Summer Studies. She also received an Academic Scholarship and was named Most Outstanding Butler Woman.',\n",
       " 'source_documents': [Document(page_content='3 grad.illinois.edu/CareerDevelopment Rachel Green  \\n2 1 0  W .  G R E E N  S T . ,  C H A M P A I G N ,  I L  \\n( 2 1 7 )  5 5 5 - 1 2 3 4  •  R S T U D E N T @ I L L I N O I S . E D U  \\nEDUCATION  \\nPhD in English May 20xx \\nUniversity of Illinois at Urbana-Champaign \\nDissertation title:  “Down on the Farm: World War One and the Emergence of Literary  \\nModernism in the American South”  \\nCommittee : Margaret Black, Naomi Blue, John Jay, Robert Roberts (Chair) \\nMA in English  20xx', metadata={'source': 'E:\\\\GenAI\\\\wb1\\\\data\\\\RachelGreenCV.pdf', 'page': 0}),\n",
       "  Document(page_content='Summer Research Grant, Center for Summer Studies, City, ST  20xx \\nGraduate College Conference Travel Grant, University of Illinois 20xx & 20xx \\nMost Outstanding Butler Woman, Butler University, Indianapolis, IN 20xx \\nAcademic Scholarship, Butler University, Indianapolis, IN 20xx-20xx \\nRachel Green, page 2 of 3', metadata={'source': 'E:\\\\GenAI\\\\wb1\\\\data\\\\RachelGreenCV.pdf', 'page': 1})]}"
      ]
     },
     "execution_count": 30,
     "metadata": {},
     "output_type": "execute_result"
    }
   ],
   "source": [
    "query = 'What are the qualifications of Rachel Green?'\n",
    "\n",
    "response = qa_chain.invoke(query)\n",
    "response"
   ]
  },
  {
   "cell_type": "code",
   "execution_count": 31,
   "id": "0bc3bb82-d398-411b-bca6-663a5aacfcbb",
   "metadata": {},
   "outputs": [
    {
     "data": {
      "text/plain": [
       "'Rachel Green is a PhD student in English at the University of Illinois at Urbana-Champaign. She has a MA in English and a Summer Research Grant from the Center for Summer Studies. She also received an Academic Scholarship and was named Most Outstanding Butler Woman.'"
      ]
     },
     "execution_count": 31,
     "metadata": {},
     "output_type": "execute_result"
    }
   ],
   "source": [
    "ans = response['result']\n",
    "ans"
   ]
  },
  {
   "cell_type": "code",
   "execution_count": 33,
   "id": "c40eed3a-71d7-49d8-8f8b-f44054be112a",
   "metadata": {},
   "outputs": [],
   "source": [
    "llm2 = CTransformers(model=\"tamil-llama-7b-instruct-v0.2.Q5_K_M.gguf\",\n",
    "                     model_type='llama')"
   ]
  },
  {
   "cell_type": "code",
   "execution_count": 34,
   "id": "c4ea99b4-e3f5-460f-ae48-1f2d6219fdf6",
   "metadata": {},
   "outputs": [],
   "source": [
    "template1=\"\"\"\n",
    "    {ans} ஐ தமிழ் மொழியில் 20 வார்த்தைகளில் மொழிபெயர்க்கவும்\n",
    "        \"\"\"\n",
    "\n",
    "prompt1=PromptTemplate(template=template1,\n",
    "                      input_variables=['ans'])\n"
   ]
  },
  {
   "cell_type": "code",
   "execution_count": 35,
   "id": "34bad12d-e789-4324-bc12-9eda8205252c",
   "metadata": {},
   "outputs": [
    {
     "name": "stderr",
     "output_type": "stream",
     "text": [
      "C:\\Users\\Thivyan\\anaconda3\\envs\\llm\\Lib\\site-packages\\langchain_core\\_api\\deprecation.py:117: LangChainDeprecationWarning: The function `__call__` was deprecated in LangChain 0.1.7 and will be removed in 0.2.0. Use invoke instead.\n",
      "  warn_deprecated(\n"
     ]
    },
    {
     "data": {
      "text/plain": [
       "'\\n    ராலி க்ரீன் ஒரு பல்கலைக்கழகத்தில் முனைவர் பட்டம் பெற்றவரின், அமெரிக்காவில் உள்ள இல்லினாய்ஸ்-சாம்பென்னில் உள்ள யுனிவர்சல் பல்கலைக்கழகத்தில். அவள் இளங்கலைப் பட்டமும் பெற்றவர் மற்றும் பல்கலைக்கழக மையத்தால் வழங்கப்படும் கோடைகால ஆய்வுக்கான நிதியுதவி பெற அனுமதிக்கப்பட்டார். அவளுக்கும் புகழ்பெற்ற ஸ்கூல் என்ற விருது வழங்கப்பட்டது, மேலும் அவர் 2016 ஆம் ஆண்டுக்கான பல்கலைக்கழகத்தில் மிகவும் பாராட்டப்பட்ட பெண் என்று பெயரிடப்பட்டார்.\\n   '"
      ]
     },
     "execution_count": 35,
     "metadata": {},
     "output_type": "execute_result"
    }
   ],
   "source": [
    "result1 = llm2(prompt1.format(ans=ans))\n",
    "result1"
   ]
  },
  {
   "cell_type": "code",
   "execution_count": null,
   "id": "97f14ad1-dcc4-4971-b389-f47a442a1ae2",
   "metadata": {},
   "outputs": [],
   "source": []
  },
  {
   "cell_type": "code",
   "execution_count": 36,
   "id": "3e48dd9f-99fb-4513-a770-0fa4946785ce",
   "metadata": {},
   "outputs": [],
   "source": [
    "examples = [\n",
    "    {\"sentence\": \"what is your name?\", \n",
    "     \"tamil_translation\": \"உங்கள் பெயர் என்ன?\"},\n",
    "    {\"sentence\": \"i have graduated from Indian Institute of Technology\", \n",
    "     \"tamil_translation\": \"நான் இந்திய தொழில்நுட்ப நிறுவனத்தில் பட்டம் பெற்றுள்ளேன்\"},\n",
    "    {\"sentence\": \"She has a MS in Computer Science and a Summer Research Grant from the Center for Summer Studies\", \n",
    "     \"tamil_translation\": \"அவர் கணினி அறிவியலில் எம்.எஸ் மற்றும் கோடைகால ஆய்வு மையத்தில் இருந்து கோடைகால ஆராய்ச்சி மானியம் பெற்றுள்ளார்.\"},\n",
    "    {\"sentence\": \"The cat jumped over the lazy dog and yawned\", \n",
    "     \"tamil_translation\": \"பூனை சோம்பேறி நாயை தாண்டி குதித்து கொட்டாவி விட்டது\"},\n",
    "    {\"sentence\": \"YOLO (You Only Look Once) is a fast object detection algorithm using convolutional neural networks.\", \n",
    "     \"tamil_translation\": \"YOLO (நீங்கள் ஒருமுறை மட்டும் பாருங்கள்) என்பது கன்வல்யூஷனல் நரம்பியல் நெட்வொர்க்குகளைப் பயன்படுத்தி ஒரு வேகமான பொருள் கண்டறிதல் அல்காரிதம் ஆகும்.\"},\n",
    "]"
   ]
  },
  {
   "cell_type": "code",
   "execution_count": 37,
   "id": "4ee78745-15ec-4fda-b918-a1c2c58ae4b2",
   "metadata": {},
   "outputs": [],
   "source": [
    "example_formatter_template = \"\"\"sentence: {sentence}\n",
    "tamil_translation: {tamil_translation}\n",
    "\"\"\"\n",
    "\n",
    "example_prompt = PromptTemplate(\n",
    "    input_variables=[\"sentence\", \"tamil_translation\"],\n",
    "    template=example_formatter_template,\n",
    ")"
   ]
  },
  {
   "cell_type": "code",
   "execution_count": 38,
   "id": "3c1495ea-a4da-4ce4-b8fd-ae8fa3771d45",
   "metadata": {},
   "outputs": [],
   "source": [
    "few_shot_prompt = FewShotPromptTemplate(\n",
    "    examples=examples,\n",
    "    example_prompt=example_prompt,\n",
    "    # prefix=\"Give the tamil translation of every input\\n\",\n",
    "    suffix=\"sentence: {ans}\\nTamil translation: \",\n",
    "    input_variables=[\"ans\"],\n",
    "    example_separator=\"\\n\",\n",
    ")"
   ]
  },
  {
   "cell_type": "code",
   "execution_count": 39,
   "id": "ef09002f-9f44-41c8-96de-d367b0538043",
   "metadata": {},
   "outputs": [
    {
     "data": {
      "text/plain": [
       "{'ans': 'Rachel Green is a PhD student in English at the University of Illinois at Urbana-Champaign. She has a MA in English and a Summer Research Grant from the Center for Summer Studies. She also received an Academic Scholarship and was named Most Outstanding Butler Woman.',\n",
       " 'text': 'ரிக்கி கிரீன், யுனிவர்ஸ் அட்லாண்டிகுவில் உள்ள மிச்சிகன் பல்கலைக்கழகத்தில் ஆங்கிலத்தில் பிஹெச்டி படிக்கிறார். அவர் ஏற்கனவே MA-ஐ ஆங்கிலம் மற்றும் கோடைகால ஆய்வு மையத்தில் இருந்து கோடைகால ஆராய்ச்சி மானியத்தை பெற்றுள்ளார். கூடுதலாக, அவர் அகாடமி விருது மற்றும் சிறந்த பப்ளிகன் டீனேஜ் பெண் என்று பெயரிடப்பட்டார்.'}"
      ]
     },
     "execution_count": 39,
     "metadata": {},
     "output_type": "execute_result"
    }
   ],
   "source": [
    "chain=LLMChain(llm=llm2,prompt=few_shot_prompt)\n",
    "result = chain.invoke({'ans':ans})\n",
    "result"
   ]
  },
  {
   "cell_type": "code",
   "execution_count": null,
   "id": "d3f9a91a-5366-4c5d-a8b7-5148241c3853",
   "metadata": {},
   "outputs": [],
   "source": []
  },
  {
   "cell_type": "code",
   "execution_count": null,
   "id": "0c62dd7a-5f72-4b07-85ad-a752d4807dd4",
   "metadata": {},
   "outputs": [],
   "source": []
  }
 ],
 "metadata": {
  "kernelspec": {
   "display_name": "Python 3 (ipykernel)",
   "language": "python",
   "name": "python3"
  },
  "language_info": {
   "codemirror_mode": {
    "name": "ipython",
    "version": 3
   },
   "file_extension": ".py",
   "mimetype": "text/x-python",
   "name": "python",
   "nbconvert_exporter": "python",
   "pygments_lexer": "ipython3",
   "version": "3.11.5"
  }
 },
 "nbformat": 4,
 "nbformat_minor": 5
}
