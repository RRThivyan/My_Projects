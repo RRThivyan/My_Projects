{
 "cells": [
  {
   "cell_type": "code",
   "execution_count": 3,
   "id": "4fe0c8e0",
   "metadata": {
    "id": "4fe0c8e0",
    "outputId": "5857b795-6388-4cbf-b508-24790b633ad1"
   },
   "outputs": [
    {
     "name": "stdout",
     "output_type": "stream",
     "text": [
      " * Serving Flask app \"__main__\" (lazy loading)\n",
      " * Environment: production\n",
      "\u001b[31m   WARNING: This is a development server. Do not use it in a production deployment.\u001b[0m\n",
      "\u001b[2m   Use a production WSGI server instead.\u001b[0m\n",
      " * Debug mode: off\n"
     ]
    },
    {
     "name": "stderr",
     "output_type": "stream",
     "text": [
      " * Running on http://127.0.0.1:5000/ (Press CTRL+C to quit)\n",
      "127.0.0.1 - - [16/Sep/2023 13:58:53] \"GET / HTTP/1.1\" 200 -\n",
      "127.0.0.1 - - [16/Sep/2023 13:58:53] \"GET /favicon.ico HTTP/1.1\" 404 -\n",
      "[2023-09-16 13:59:34,375] ERROR in app: Exception on /predict [POST]\n",
      "Traceback (most recent call last):\n",
      "  File \"C:\\Users\\Thivyan\\anaconda3\\lib\\site-packages\\flask\\app.py\", line 2447, in wsgi_app\n",
      "    response = self.full_dispatch_request()\n",
      "  File \"C:\\Users\\Thivyan\\anaconda3\\lib\\site-packages\\flask\\app.py\", line 1952, in full_dispatch_request\n",
      "    rv = self.handle_user_exception(e)\n",
      "  File \"C:\\Users\\Thivyan\\anaconda3\\lib\\site-packages\\flask\\app.py\", line 1821, in handle_user_exception\n",
      "    reraise(exc_type, exc_value, tb)\n",
      "  File \"C:\\Users\\Thivyan\\anaconda3\\lib\\site-packages\\flask\\_compat.py\", line 39, in reraise\n",
      "    raise value\n",
      "  File \"C:\\Users\\Thivyan\\anaconda3\\lib\\site-packages\\flask\\app.py\", line 1950, in full_dispatch_request\n",
      "    rv = self.dispatch_request()\n",
      "  File \"C:\\Users\\Thivyan\\anaconda3\\lib\\site-packages\\flask\\app.py\", line 1936, in dispatch_request\n",
      "    return self.view_functions[rule.endpoint](**req.view_args)\n",
      "  File \"C:\\Users\\Thivyan\\AppData\\Local\\Temp\\ipykernel_18592\\653749104.py\", line 53, in predict\n",
      "    output = model.predict([test_data])\n",
      "AttributeError: 'numpy.ndarray' object has no attribute 'predict'\n",
      "127.0.0.1 - - [16/Sep/2023 13:59:34] \"POST /predict HTTP/1.1\" 500 -\n"
     ]
    }
   ],
   "source": [
    "from flask import Flask, request, jsonify, render_template\n",
    "import joblib\n",
    "import numpy as np\n",
    "import pickle,sklearn\n",
    "\n",
    "app = Flask(__name__)\n",
    "# app = Flask(__name__, template_folder=r'C:\\Users\\MUKESH L\\Pubg\\templates')\n",
    "\n",
    "# Load the trained machine learning model\n",
    "# model = joblib.load('Pubg_model.joblib')\n",
    "model = joblib.load('Pubg_pred.joblib')\n",
    "# model=pickle.load(open(\"pubg_pred.pkl\",\"rb\"))\n",
    "# model=pickle.load(open(\"pubg_model.pkl\",\"rb\"))\n",
    "\n",
    "@app.route('/', methods = ['GET'])\n",
    "def home():\n",
    "    # return render_template('pubg_flask.html', winPlacePerc_prediction=None)\n",
    "    return render_template('pubg_flask.html')\n",
    "\n",
    "@app.route('/predict', methods=['POST'])\n",
    "# def predict_winPlacePerc():\n",
    "def predict():\n",
    "    # try:\n",
    "    if request.method=='POST':\n",
    "      # Get the input data from the form\n",
    "        assists = float(request.form['assists'])\n",
    "        damageDealt = float(request.form['damageDealt'])\n",
    "        DBNOs = float(request.form['DBNOs'])\n",
    "        headshotKills = float(request.form['headshotKills'])\n",
    "        killPlace = float(request.form['killPlace'])\n",
    "        kills = float(request.form['kills'])\n",
    "        killStreaks = float(request.form['killStreaks'])\n",
    "        longestKill = float(request.form['longestKill'])\n",
    "        matchDuration = float(request.form['matchDuration'])\n",
    "        matchType = float(request.form['matchType'])\n",
    "        maxPlace = float(request.form['maxPlace'])\n",
    "        rankPoints = float(request.form['rankPoints'])\n",
    "        revives = float(request.form['revives'])\n",
    "        roadKills = float(request.form['roadKills'])\n",
    "        teamKills = float(request.form['teamKills'])\n",
    "        vehicleDestroys = float(request.form['vehicleDestroys'])\n",
    "        weaponsAcquired = float(request.form['weaponsAcquired'])\n",
    "        healthitems = float(request.form['healthitems'])\n",
    "        totalDistance = float(request.form['totalDistance'])\n",
    "      # Add more features as needed\n",
    "\n",
    "        test_data = [assists, damageDealt, DBNOs, headshotKills, killPlace,\n",
    "                     kills, killStreaks, longestKill, matchDuration, matchType,\n",
    "                     maxPlace, rankPoints, revives, roadKills, teamKills, vehicleDestroys,\n",
    "                     weaponsAcquired, healthitems, totalDistance]\n",
    "        \n",
    "      # Make a prediction using the loaded model\n",
    "#         prediction = model.predict([[kills, damageDealt]])[0]\n",
    "        output = model.predict([test_data])\n",
    "        outputline = 'The Win Percentage of your game is {}'.format(output)\n",
    "        print(outputline)\n",
    "\n",
    "        return render_template('pubg_flask.html', Prediction = outputline)\n",
    "\n",
    "    # except Exception as e:\n",
    "    else:\n",
    "#         return render_template('pubg_flask.html', winPlacePerc_prediction=\"Error: \" + str(e))\n",
    "        return render_template('pubg_flask.html')\n",
    "\n",
    "if __name__ == '__main__':\n",
    "    app.run()\n",
    "\n"
   ]
  },
  {
   "cell_type": "code",
   "execution_count": null,
   "id": "2c949f7b",
   "metadata": {
    "id": "2c949f7b"
   },
   "outputs": [],
   "source": []
  }
 ],
 "metadata": {
  "accelerator": "GPU",
  "colab": {
   "gpuType": "T4",
   "provenance": []
  },
  "kernelspec": {
   "display_name": "Python 3 (ipykernel)",
   "language": "python",
   "name": "python3"
  },
  "language_info": {
   "codemirror_mode": {
    "name": "ipython",
    "version": 3
   },
   "file_extension": ".py",
   "mimetype": "text/x-python",
   "name": "python",
   "nbconvert_exporter": "python",
   "pygments_lexer": "ipython3",
   "version": "3.9.13"
  }
 },
 "nbformat": 4,
 "nbformat_minor": 5
}
